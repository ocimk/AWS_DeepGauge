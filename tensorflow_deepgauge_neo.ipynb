{
 "cells": [
  {
   "cell_type": "markdown",
   "metadata": {},
   "source": [
    "# TensorFlow BYOM: Train with Custom Training Script, Compile with Neo, and Deploy on SageMaker\n",
    "\n",
    "We will do deepgauge classification task, but this time we will compile the trained model using the Neo API backend, to optimize for our choice of hardware. Finally, we setup a real-time hosted endpoint in SageMaker for our compiled model using the Neo Deep Learning Runtime."
   ]
  },
  {
   "cell_type": "markdown",
   "metadata": {},
   "source": [
    "### Set up the environment"
   ]
  },
  {
   "cell_type": "code",
   "execution_count": 1,
   "metadata": {},
   "outputs": [],
   "source": [
    "import os\n",
    "import sagemaker\n",
    "from sagemaker import get_execution_role\n",
    "\n",
    "sagemaker_session = sagemaker.Session()\n",
    "\n",
    "role = get_execution_role()"
   ]
  },
  {
   "cell_type": "markdown",
   "metadata": {},
   "source": [
    "### Upload the data\n",
    "We use the ```sagemaker.Session.upload_data``` function to upload our datasets to an S3 location. The return value inputs identifies the location -- we will use this later when we start the training job."
   ]
  },
  {
   "cell_type": "code",
   "execution_count": 2,
   "metadata": {},
   "outputs": [],
   "source": [
    "inputs = sagemaker_session.upload_data(path='data', key_prefix='data/deepgauge')"
   ]
  },
  {
   "cell_type": "markdown",
   "metadata": {},
   "source": [
    "# Construct a script for distributed training \n",
    "Here is the full code for the network model:"
   ]
  },
  {
   "cell_type": "code",
   "execution_count": 3,
   "metadata": {
    "scrolled": true
   },
   "outputs": [
    {
     "name": "stdout",
     "output_type": "stream",
     "text": [
      "import os\n",
      "import tensorflow as tf\n",
      "from tensorflow.python.estimator.model_fn import ModeKeys as Modes\n",
      "\n",
      "INPUT_TENSOR_NAME = 'inputs'\n",
      "SIGNATURE_NAME = 'predictions'\n",
      "\n",
      "LEARNING_RATE = 0.001\n",
      "\n",
      "\n",
      "def model_fn(features, labels, mode, params):\n",
      "    # Input Layer\n",
      "    input_layer = tf.reshape(features[INPUT_TENSOR_NAME], [-1, 28, 28, 1])\n",
      "\n",
      "    # Convolutional Layer #1\n",
      "    conv1 = tf.layers.conv2d(\n",
      "        inputs=input_layer,\n",
      "        filters=32,\n",
      "        kernel_size=[5, 5],\n",
      "        padding='same',\n",
      "        activation=tf.nn.relu)\n",
      "\n",
      "    # Pooling Layer #1\n",
      "    pool1 = tf.layers.max_pooling2d(inputs=conv1, pool_size=[2, 2], strides=2)\n",
      "\n",
      "    # Convolutional Layer #2 and Pooling Layer #2\n",
      "    conv2 = tf.layers.conv2d(\n",
      "        inputs=pool1,\n",
      "        filters=64,\n",
      "        kernel_size=[5, 5],\n",
      "        padding='same',\n",
      "        activation=tf.nn.relu)\n",
      "    pool2 = tf.layers.max_pooling2d(inputs=conv2, pool_size=[2, 2], strides=2)\n",
      "\n",
      "    # Dense Layer\n",
      "    pool2_flat = tf.reshape(pool2, [-1, 7 * 7 * 64])\n",
      "    dense = tf.layers.dense(inputs=pool2_flat, units=1024, activation=tf.nn.relu)\n",
      "    dropout = tf.layers.dropout(\n",
      "        inputs=dense, rate=0.4, training=(mode == Modes.TRAIN))\n",
      "\n",
      "    # Logits Layer\n",
      "    logits = tf.layers.dense(inputs=dropout, units=31)\n",
      "\n",
      "    # Define operations\n",
      "    if mode in (Modes.PREDICT, Modes.EVAL):\n",
      "        predicted_indices = tf.argmax(input=logits, axis=1)\n",
      "        probabilities = tf.nn.softmax(logits, name='softmax_tensor')\n",
      "\n",
      "    if mode in (Modes.TRAIN, Modes.EVAL):\n",
      "        global_step = tf.train.get_or_create_global_step()\n",
      "        label_indices = tf.cast(labels, tf.int32)\n",
      "        loss = tf.losses.softmax_cross_entropy(\n",
      "            onehot_labels=tf.one_hot(label_indices, depth=31), logits=logits)\n",
      "        tf.summary.scalar('OptimizeLoss', loss)\n",
      "\n",
      "    if mode == Modes.PREDICT:\n",
      "        predictions = {\n",
      "            'classes': predicted_indices,\n",
      "            'probabilities': probabilities\n",
      "        }\n",
      "        export_outputs = {\n",
      "            SIGNATURE_NAME: tf.estimator.export.PredictOutput(predictions)\n",
      "        }\n",
      "        return tf.estimator.EstimatorSpec(\n",
      "            mode, predictions=predictions, export_outputs=export_outputs)\n",
      "\n",
      "    if mode == Modes.TRAIN:\n",
      "        optimizer = tf.train.AdamOptimizer(learning_rate=0.001)\n",
      "        train_op = optimizer.minimize(loss, global_step=global_step)\n",
      "        return tf.estimator.EstimatorSpec(mode, loss=loss, train_op=train_op)\n",
      "\n",
      "    if mode == Modes.EVAL:\n",
      "        eval_metric_ops = {\n",
      "            'accuracy': tf.metrics.accuracy(label_indices, predicted_indices)\n",
      "        }\n",
      "        return tf.estimator.EstimatorSpec(\n",
      "            mode, loss=loss, eval_metric_ops=eval_metric_ops)\n",
      "\n",
      "\n",
      "def serving_input_fn(params):\n",
      "    inputs = {INPUT_TENSOR_NAME: tf.placeholder(tf.float32, [None, 784* 1])}\n",
      "    return tf.estimator.export.ServingInputReceiver(inputs, inputs)\n",
      "\n",
      "\n",
      "def read_and_decode(filename_queue):\n",
      "    reader = tf.TFRecordReader()\n",
      "    _, serialized_example = reader.read(filename_queue)\n",
      "\n",
      "    features = tf.parse_single_example(\n",
      "        serialized_example,\n",
      "        features={\n",
      "            'image_raw': tf.FixedLenFeature([], tf.string),\n",
      "            'label': tf.FixedLenFeature([], tf.int64),\n",
      "        })\n",
      "\n",
      "    image = tf.decode_raw(features['image_raw'], tf.uint8)\n",
      "    image.set_shape([784* 1])\n",
      "    image = tf.cast(image, tf.float32) * (1. / 255)\n",
      "    label = tf.cast(features['label'], tf.int32)\n",
      "\n",
      "    return image, label\n",
      "\n",
      "\n",
      "def train_input_fn(training_dir, params):\n",
      "    return _input_fn(training_dir, 'train.tfrecords', batch_size=100)\n",
      "\n",
      "\n",
      "def eval_input_fn(training_dir, params):\n",
      "    return _input_fn(training_dir, 'test.tfrecords', batch_size=100)\n",
      "\n",
      "\n",
      "def _input_fn(training_dir, training_filename, batch_size=100):\n",
      "    test_file = os.path.join(training_dir, training_filename)\n",
      "    filename_queue = tf.train.string_input_producer([test_file])\n",
      "\n",
      "    image, label = read_and_decode(filename_queue)\n",
      "    images, labels = tf.train.batch(\n",
      "        [image, label], batch_size=batch_size,\n",
      "        capacity=1000 + 3 * batch_size)\n",
      "\n",
      "    return {INPUT_TENSOR_NAME: images}, labels\n",
      "\n",
      "\n",
      "def neo_preprocess(payload, content_type):\n",
      "    import logging\n",
      "    import numpy as np\n",
      "    import io\n",
      "\n",
      "    logging.info('Invoking user-defined pre-processing function')\n",
      "\n",
      "    if content_type != 'application/x-image' and content_type != 'application/vnd+python.numpy+binary':\n",
      "        raise RuntimeError('Content type must be application/x-image or application/vnd+python.numpy+binary')\n",
      "\n",
      "    f = io.BytesIO(payload)\n",
      "    image = np.load(f) * 255\n",
      "\n",
      "    return image\n",
      "\n",
      "\n",
      "### NOTE: this function cannot use MXNet\n",
      "def neo_postprocess(result):\n",
      "    import logging\n",
      "    import numpy as np\n",
      "    import json\n",
      "\n",
      "    logging.info('Invoking user-defined post-processing function')\n",
      "\n",
      "    # Softmax (assumes batch size 1)\n",
      "    result = np.squeeze(result)\n",
      "    result_exp = np.exp(result - np.max(result))\n",
      "    result = result_exp / np.sum(result_exp)\n",
      "\n",
      "    response_body = json.dumps(result.tolist())\n",
      "    content_type = 'application/json'\n",
      "\n",
      "    return response_body, content_type"
     ]
    }
   ],
   "source": [
    "!cat 'deepgauge.py'"
   ]
  },
  {
   "cell_type": "markdown",
   "metadata": {},
   "source": [
    "\n",
    "At the end of the training script, there are two additional functions, to be used with Neo Deep Learning Runtime:\n",
    "* `neo_preprocess(payload, content_type)`: Function that takes in the payload and Content-Type of each incoming request and returns a NumPy array\n",
    "* `neo_postprocess(result)`: Function that takes the prediction results produced by Deep Learining Runtime and returns the response body"
   ]
  },
  {
   "cell_type": "markdown",
   "metadata": {},
   "source": [
    "## Create a training job using the sagemaker.TensorFlow estimator"
   ]
  },
  {
   "cell_type": "code",
   "execution_count": 4,
   "metadata": {
    "scrolled": true
   },
   "outputs": [
    {
     "name": "stderr",
     "output_type": "stream",
     "text": [
      "tensorflow py2 container will be deprecated soon.\n"
     ]
    },
    {
     "name": "stdout",
     "output_type": "stream",
     "text": [
      "2019-08-30 16:22:49 Starting - Starting the training job...\n",
      "2019-08-30 16:23:18 Starting - Launching requested ML instances......\n",
      "2019-08-30 16:24:13 Starting - Preparing the instances for training......\n",
      "2019-08-30 16:24:57 Downloading - Downloading input data\n",
      "2019-08-30 16:24:57 Training - Downloading the training image...\n",
      "2019-08-30 16:25:46 Training - Training image download completed. Training in progress..\n",
      "\u001b[31m2019-08-30 16:25:46,461 INFO - root - running container entrypoint\u001b[0m\n",
      "\u001b[31m2019-08-30 16:25:46,461 INFO - root - starting train task\u001b[0m\n",
      "\u001b[31m2019-08-30 16:25:46,483 INFO - container_support.training - Training starting\u001b[0m\n",
      "\u001b[31mDownloading s3://sagemaker-us-east-2-185004506247/sagemaker-tensorflow-2019-08-30-16-22-49-311/source/sourcedir.tar.gz to /tmp/script.tar.gz\u001b[0m\n",
      "\u001b[31m2019-08-30 16:25:48,816 INFO - tf_container - ----------------------TF_CONFIG--------------------------\u001b[0m\n",
      "\u001b[31m2019-08-30 16:25:48,817 INFO - tf_container - {\"environment\": \"cloud\", \"cluster\": {\"master\": [\"algo-1:2222\"]}, \"task\": {\"index\": 0, \"type\": \"master\"}}\u001b[0m\n",
      "\u001b[31m2019-08-30 16:25:48,817 INFO - tf_container - ---------------------------------------------------------\u001b[0m\n",
      "\u001b[31m2019-08-30 16:25:48,817 INFO - tf_container - creating RunConfig:\u001b[0m\n",
      "\u001b[31m2019-08-30 16:25:48,817 INFO - tf_container - {'save_checkpoints_secs': 300}\u001b[0m\n",
      "\u001b[31m2019-08-30 16:25:48,817 INFO - tensorflow - TF_CONFIG environment variable: {u'environment': u'cloud', u'cluster': {u'master': [u'algo-1:2222']}, u'task': {u'index': 0, u'type': u'master'}}\u001b[0m\n",
      "\u001b[31m2019-08-30 16:25:48,817 INFO - tf_container - creating an estimator from the user-provided model_fn\u001b[0m\n",
      "\u001b[31m2019-08-30 16:25:48,818 INFO - tensorflow - Using config: {'_save_checkpoints_secs': 300, '_keep_checkpoint_max': 5, '_task_type': u'master', '_cluster_spec': <tensorflow.python.training.server_lib.ClusterSpec object at 0x7f3cf827af10>, '_keep_checkpoint_every_n_hours': 10000, '_service': None, '_num_ps_replicas': 0, '_tf_random_seed': None, '_device_fn': None, '_num_worker_replicas': 1, '_task_id': 0, '_log_step_count_steps': 100, '_evaluation_master': '', '_eval_distribute': None, '_train_distribute': None, '_session_config': device_filters: \"/job:ps\"\u001b[0m\n",
      "\u001b[31mdevice_filters: \"/job:master\"\u001b[0m\n",
      "\u001b[31mallow_soft_placement: true\u001b[0m\n",
      "\u001b[31mgraph_options {\n",
      "  rewrite_options {\n",
      "    meta_optimizer_iterations: ONE\n",
      "  }\u001b[0m\n",
      "\u001b[31m}\u001b[0m\n",
      "\u001b[31m, '_global_id_in_cluster': 0, '_is_chief': True, '_protocol': None, '_save_checkpoints_steps': None, '_experimental_distribute': None, '_save_summary_steps': 100, '_model_dir': u's3://sagemaker-us-east-2-185004506247/sagemaker-tensorflow-2019-08-30-16-22-49-311/checkpoints', '_master': ''}\u001b[0m\n",
      "\u001b[31m2019-08-30 16:25:48,819 INFO - tensorflow - Skip starting Tensorflow server as there is only one node in the cluster.\u001b[0m\n",
      "\u001b[31m2019-08-30 16:25:48.863860: E tensorflow/core/platform/s3/aws_logging.cc:60] No response body. Response code: 404\u001b[0m\n",
      "\u001b[31m2019-08-30 16:25:48.864343: W tensorflow/core/platform/s3/aws_logging.cc:57] If the signature check failed. This could be because of a time skew. Attempting to adjust the signer.\u001b[0m\n",
      "\u001b[31m2019-08-30 16:25:48,996 WARNING - tensorflow - From /usr/local/lib/python2.7/dist-packages/tensorflow/python/training/input.py:187: __init__ (from tensorflow.python.training.queue_runner_impl) is deprecated and will be removed in a future version.\u001b[0m\n",
      "\u001b[31mInstructions for updating:\u001b[0m\n",
      "\u001b[31mTo construct input pipelines, use the `tf.data` module.\u001b[0m\n",
      "\u001b[31m2019-08-30 16:25:48,998 WARNING - tensorflow - From /usr/local/lib/python2.7/dist-packages/tensorflow/python/training/input.py:187: add_queue_runner (from tensorflow.python.training.queue_runner_impl) is deprecated and will be removed in a future version.\u001b[0m\n",
      "\u001b[31mInstructions for updating:\u001b[0m\n",
      "\u001b[31mTo construct input pipelines, use the `tf.data` module.\u001b[0m\n",
      "\u001b[31m2019-08-30 16:25:49,019 INFO - tensorflow - Calling model_fn.\u001b[0m\n",
      "\u001b[31m2019-08-30 16:25:49,335 INFO - tensorflow - Done calling model_fn.\u001b[0m\n",
      "\u001b[31m2019-08-30 16:25:49,336 INFO - tensorflow - Create CheckpointSaverHook.\u001b[0m\n",
      "\u001b[31m2019-08-30 16:25:49.346679: E tensorflow/core/platform/s3/aws_logging.cc:60] No response body. Response code: 404\u001b[0m\n",
      "\u001b[31m2019-08-30 16:25:49.346727: W tensorflow/core/platform/s3/aws_logging.cc:57] If the signature check failed. This could be because of a time skew. Attempting to adjust the signer.\u001b[0m\n",
      "\u001b[31m2019-08-30 16:25:49.361517: E tensorflow/core/platform/s3/aws_logging.cc:60] No response body. Response code: 404\u001b[0m\n",
      "\u001b[31m2019-08-30 16:25:49.361557: W tensorflow/core/platform/s3/aws_logging.cc:57] If the signature check failed. This could be because of a time skew. Attempting to adjust the signer.\u001b[0m\n",
      "\u001b[31m2019-08-30 16:25:49.376641: E tensorflow/core/platform/s3/aws_logging.cc:60] No response body. Response code: 404\u001b[0m\n",
      "\u001b[31m2019-08-30 16:25:49.376686: W tensorflow/core/platform/s3/aws_logging.cc:57] If the signature check failed. This could be because of a time skew. Attempting to adjust the signer.\u001b[0m\n",
      "\u001b[31m2019-08-30 16:25:49,654 INFO - tensorflow - Graph was finalized.\u001b[0m\n",
      "\u001b[31m2019-08-30 16:25:51.158592: E tensorflow/core/platform/s3/aws_logging.cc:60] No response body. Response code: 404\u001b[0m\n",
      "\u001b[31m2019-08-30 16:25:51.158645: W tensorflow/core/platform/s3/aws_logging.cc:57] If the signature check failed. This could be because of a time skew. Attempting to adjust the signer.\u001b[0m\n",
      "\u001b[31m2019-08-30 16:25:51,470 INFO - tensorflow - Running local_init_op.\u001b[0m\n",
      "\u001b[31m2019-08-30 16:25:51,476 INFO - tensorflow - Done running local_init_op.\u001b[0m\n",
      "\u001b[31m2019-08-30 16:25:51,500 WARNING - tensorflow - From /usr/local/lib/python2.7/dist-packages/tensorflow/python/training/monitored_session.py:804: start_queue_runners (from tensorflow.python.training.queue_runner_impl) is deprecated and will be removed in a future version.\u001b[0m\n",
      "\u001b[31mInstructions for updating:\u001b[0m\n",
      "\u001b[31mTo construct input pipelines, use the `tf.data` module.\u001b[0m\n",
      "\u001b[31m2019-08-30 16:25:51.560430: E tensorflow/core/platform/s3/aws_logging.cc:60] No response body. Response code: 404\u001b[0m\n",
      "\u001b[31m2019-08-30 16:25:51.560474: W tensorflow/core/platform/s3/aws_logging.cc:57] If the signature check failed. This could be because of a time skew. Attempting to adjust the signer.\u001b[0m\n",
      "\u001b[31m2019-08-30 16:25:52,153 INFO - tensorflow - Saving checkpoints for 0 into s3://sagemaker-us-east-2-185004506247/sagemaker-tensorflow-2019-08-30-16-22-49-311/checkpoints/model.ckpt.\u001b[0m\n",
      "\u001b[31m2019-08-30 16:25:54.081651: E tensorflow/core/platform/s3/aws_logging.cc:60] No response body. Response code: 404\u001b[0m\n",
      "\u001b[31m2019-08-30 16:25:54.081698: W tensorflow/core/platform/s3/aws_logging.cc:57] If the signature check failed. This could be because of a time skew. Attempting to adjust the signer.\u001b[0m\n",
      "\u001b[31m2019-08-30 16:26:03,179 INFO - tensorflow - loss = 3.436611, step = 0\u001b[0m\n",
      "\u001b[31m2019-08-30 16:26:04,583 INFO - tensorflow - global_step/sec: 71.2184\u001b[0m\n",
      "\u001b[31m2019-08-30 16:26:04,584 INFO - tensorflow - loss = 1.5441755, step = 100 (1.405 sec)\u001b[0m\n",
      "\u001b[31m2019-08-30 16:26:06,095 INFO - tensorflow - global_step/sec: 66.1319\u001b[0m\n",
      "\u001b[31m2019-08-30 16:26:06,096 INFO - tensorflow - loss = 0.69903386, step = 200 (1.512 sec)\u001b[0m\n",
      "\u001b[31m2019-08-30 16:26:07,617 INFO - tensorflow - global_step/sec: 65.6787\u001b[0m\n",
      "\u001b[31m2019-08-30 16:26:07,618 INFO - tensorflow - loss = 0.4145495, step = 300 (1.522 sec)\u001b[0m\n",
      "\u001b[31m2019-08-30 16:26:09,136 INFO - tensorflow - global_step/sec: 65.8569\u001b[0m\n",
      "\u001b[31m2019-08-30 16:26:09,137 INFO - tensorflow - loss = 0.24215516, step = 400 (1.518 sec)\u001b[0m\n",
      "\u001b[31m2019-08-30 16:26:10,648 INFO - tensorflow - global_step/sec: 66.1425\u001b[0m\n",
      "\u001b[31m2019-08-30 16:26:10,649 INFO - tensorflow - loss = 0.12628087, step = 500 (1.512 sec)\u001b[0m\n",
      "\u001b[31m2019-08-30 16:26:12,177 INFO - tensorflow - global_step/sec: 65.387\u001b[0m\n",
      "\u001b[31m2019-08-30 16:26:12,178 INFO - tensorflow - loss = 0.14938116, step = 600 (1.529 sec)\u001b[0m\n",
      "\u001b[31m2019-08-30 16:26:13,686 INFO - tensorflow - global_step/sec: 66.2665\u001b[0m\n",
      "\u001b[31m2019-08-30 16:26:13,687 INFO - tensorflow - loss = 0.14529186, step = 700 (1.509 sec)\u001b[0m\n",
      "\u001b[31m2019-08-30 16:26:15,201 INFO - tensorflow - global_step/sec: 66.0215\u001b[0m\n",
      "\u001b[31m2019-08-30 16:26:15,202 INFO - tensorflow - loss = 0.13650924, step = 800 (1.515 sec)\u001b[0m\n",
      "\u001b[31m2019-08-30 16:26:16,718 INFO - tensorflow - global_step/sec: 65.891\u001b[0m\n",
      "\u001b[31m2019-08-30 16:26:16,719 INFO - tensorflow - loss = 0.057008874, step = 900 (1.518 sec)\u001b[0m\n",
      "\u001b[31m2019-08-30 16:26:18,236 INFO - tensorflow - global_step/sec: 65.8983\u001b[0m\n",
      "\u001b[31m2019-08-30 16:26:18,237 INFO - tensorflow - loss = 0.03402442, step = 1000 (1.517 sec)\u001b[0m\n",
      "\u001b[31m2019-08-30 16:26:19,756 INFO - tensorflow - global_step/sec: 65.7801\u001b[0m\n",
      "\u001b[31m2019-08-30 16:26:19,757 INFO - tensorflow - loss = 0.036585756, step = 1100 (1.520 sec)\u001b[0m\n",
      "\u001b[31m2019-08-30 16:26:21,274 INFO - tensorflow - global_step/sec: 65.865\u001b[0m\n",
      "\u001b[31m2019-08-30 16:26:21,275 INFO - tensorflow - loss = 0.08129001, step = 1200 (1.518 sec)\u001b[0m\n",
      "\u001b[31m2019-08-30 16:26:22,815 INFO - tensorflow - global_step/sec: 64.8969\u001b[0m\n",
      "\u001b[31m2019-08-30 16:26:22,816 INFO - tensorflow - loss = 0.03106608, step = 1300 (1.541 sec)\u001b[0m\n",
      "\u001b[31m2019-08-30 16:26:24,331 INFO - tensorflow - global_step/sec: 65.9914\u001b[0m\n",
      "\u001b[31m2019-08-30 16:26:24,332 INFO - tensorflow - loss = 0.03394797, step = 1400 (1.515 sec)\u001b[0m\n",
      "\u001b[31m2019-08-30 16:26:25,843 INFO - tensorflow - global_step/sec: 66.1139\u001b[0m\n",
      "\u001b[31m2019-08-30 16:26:25,844 INFO - tensorflow - loss = 0.045853276, step = 1500 (1.512 sec)\u001b[0m\n",
      "\u001b[31m2019-08-30 16:26:27,372 INFO - tensorflow - global_step/sec: 65.385\u001b[0m\n",
      "\u001b[31m2019-08-30 16:26:27,373 INFO - tensorflow - loss = 0.015389381, step = 1600 (1.529 sec)\u001b[0m\n",
      "\u001b[31m2019-08-30 16:26:28,889 INFO - tensorflow - global_step/sec: 65.9559\u001b[0m\n",
      "\u001b[31m2019-08-30 16:26:28,890 INFO - tensorflow - loss = 0.012750529, step = 1700 (1.516 sec)\u001b[0m\n",
      "\u001b[31m2019-08-30 16:26:30,410 INFO - tensorflow - global_step/sec: 65.7383\u001b[0m\n",
      "\u001b[31m2019-08-30 16:26:30,411 INFO - tensorflow - loss = 0.011703819, step = 1800 (1.521 sec)\u001b[0m\n",
      "\u001b[31m2019-08-30 16:26:31,930 INFO - tensorflow - global_step/sec: 65.7696\u001b[0m\n",
      "\u001b[31m2019-08-30 16:26:31,931 INFO - tensorflow - loss = 0.007016494, step = 1900 (1.520 sec)\u001b[0m\n",
      "\u001b[31m2019-08-30 16:26:33,456 INFO - tensorflow - global_step/sec: 65.5281\u001b[0m\n",
      "\u001b[31m2019-08-30 16:26:33,457 INFO - tensorflow - loss = 0.0056376527, step = 2000 (1.526 sec)\u001b[0m\n",
      "\u001b[31m2019-08-30 16:26:34,979 INFO - tensorflow - global_step/sec: 65.6639\u001b[0m\n",
      "\u001b[31m2019-08-30 16:26:34,980 INFO - tensorflow - loss = 0.0017034723, step = 2100 (1.523 sec)\u001b[0m\n",
      "\u001b[31m2019-08-30 16:26:36,493 INFO - tensorflow - global_step/sec: 66.0802\u001b[0m\n",
      "\u001b[31m2019-08-30 16:26:36,494 INFO - tensorflow - loss = 0.013652206, step = 2200 (1.513 sec)\u001b[0m\n",
      "\u001b[31m2019-08-30 16:26:38,011 INFO - tensorflow - global_step/sec: 65.8657\u001b[0m\n",
      "\u001b[31m2019-08-30 16:26:38,012 INFO - tensorflow - loss = 0.00906986, step = 2300 (1.518 sec)\u001b[0m\n",
      "\u001b[31m2019-08-30 16:26:39,525 INFO - tensorflow - global_step/sec: 66.0512\u001b[0m\n",
      "\u001b[31m2019-08-30 16:26:39,526 INFO - tensorflow - loss = 0.01005777, step = 2400 (1.514 sec)\u001b[0m\n",
      "\u001b[31m2019-08-30 16:26:41,040 INFO - tensorflow - global_step/sec: 66.0024\u001b[0m\n",
      "\u001b[31m2019-08-30 16:26:41,041 INFO - tensorflow - loss = 0.013202701, step = 2500 (1.515 sec)\u001b[0m\n",
      "\u001b[31m2019-08-30 16:26:42,572 INFO - tensorflow - global_step/sec: 65.2868\u001b[0m\n",
      "\u001b[31m2019-08-30 16:26:42,573 INFO - tensorflow - loss = 0.0046460335, step = 2600 (1.532 sec)\u001b[0m\n",
      "\u001b[31m2019-08-30 16:26:44,089 INFO - tensorflow - global_step/sec: 65.8915\u001b[0m\n",
      "\u001b[31m2019-08-30 16:26:44,090 INFO - tensorflow - loss = 0.006500385, step = 2700 (1.518 sec)\u001b[0m\n",
      "\u001b[31m2019-08-30 16:26:45,609 INFO - tensorflow - global_step/sec: 65.8116\u001b[0m\n",
      "\u001b[31m2019-08-30 16:26:45,610 INFO - tensorflow - loss = 0.007601122, step = 2800 (1.520 sec)\u001b[0m\n",
      "\u001b[31m2019-08-30 16:26:47,123 INFO - tensorflow - global_step/sec: 66.0567\u001b[0m\n",
      "\u001b[31m2019-08-30 16:26:47,124 INFO - tensorflow - loss = 0.0016959859, step = 2900 (1.514 sec)\u001b[0m\n",
      "\u001b[31m2019-08-30 16:26:48,656 INFO - tensorflow - global_step/sec: 65.2195\u001b[0m\n",
      "\u001b[31m2019-08-30 16:26:48,657 INFO - tensorflow - loss = 0.004603124, step = 3000 (1.533 sec)\u001b[0m\n",
      "\u001b[31m2019-08-30 16:26:50,185 INFO - tensorflow - global_step/sec: 65.3783\u001b[0m\n",
      "\u001b[31m2019-08-30 16:26:50,187 INFO - tensorflow - loss = 0.0054002656, step = 3100 (1.530 sec)\u001b[0m\n",
      "\u001b[31m2019-08-30 16:26:51,702 INFO - tensorflow - global_step/sec: 65.9225\u001b[0m\n",
      "\u001b[31m2019-08-30 16:26:51,703 INFO - tensorflow - loss = 0.009312038, step = 3200 (1.517 sec)\u001b[0m\n",
      "\u001b[31m2019-08-30 16:26:53,240 INFO - tensorflow - global_step/sec: 65.0508\u001b[0m\n",
      "\u001b[31m2019-08-30 16:26:53,241 INFO - tensorflow - loss = 0.00075587525, step = 3300 (1.537 sec)\u001b[0m\n",
      "\u001b[31m2019-08-30 16:26:54,759 INFO - tensorflow - global_step/sec: 65.8176\u001b[0m\n",
      "\u001b[31m2019-08-30 16:26:54,760 INFO - tensorflow - loss = 0.004221827, step = 3400 (1.519 sec)\u001b[0m\n",
      "\u001b[31m2019-08-30 16:26:56,268 INFO - tensorflow - global_step/sec: 66.2549\u001b[0m\n",
      "\u001b[31m2019-08-30 16:26:56,269 INFO - tensorflow - loss = 0.0030954592, step = 3500 (1.509 sec)\u001b[0m\n",
      "\u001b[31m2019-08-30 16:26:57,798 INFO - tensorflow - global_step/sec: 65.3694\u001b[0m\n",
      "\u001b[31m2019-08-30 16:26:57,799 INFO - tensorflow - loss = 0.005179414, step = 3600 (1.530 sec)\u001b[0m\n",
      "\u001b[31m2019-08-30 16:26:59,319 INFO - tensorflow - global_step/sec: 65.7608\u001b[0m\n",
      "\u001b[31m2019-08-30 16:26:59,320 INFO - tensorflow - loss = 0.002788401, step = 3700 (1.521 sec)\u001b[0m\n",
      "\u001b[31m2019-08-30 16:27:00,837 INFO - tensorflow - global_step/sec: 65.8475\u001b[0m\n",
      "\u001b[31m2019-08-30 16:27:00,838 INFO - tensorflow - loss = 0.0012667346, step = 3800 (1.518 sec)\u001b[0m\n",
      "\u001b[31m2019-08-30 16:27:02,362 INFO - tensorflow - global_step/sec: 65.609\u001b[0m\n",
      "\u001b[31m2019-08-30 16:27:02,363 INFO - tensorflow - loss = 0.0023435121, step = 3900 (1.524 sec)\u001b[0m\n",
      "\u001b[31m2019-08-30 16:27:03,904 INFO - tensorflow - global_step/sec: 64.834\u001b[0m\n",
      "\u001b[31m2019-08-30 16:27:03,905 INFO - tensorflow - loss = 0.0054224906, step = 4000 (1.543 sec)\u001b[0m\n",
      "\u001b[31m2019-08-30 16:27:05,419 INFO - tensorflow - global_step/sec: 66.0141\u001b[0m\n",
      "\u001b[31m2019-08-30 16:27:05,420 INFO - tensorflow - loss = 0.001897942, step = 4100 (1.515 sec)\u001b[0m\n",
      "\u001b[31m2019-08-30 16:27:06,941 INFO - tensorflow - global_step/sec: 65.7152\u001b[0m\n",
      "\u001b[31m2019-08-30 16:27:06,942 INFO - tensorflow - loss = 0.0019215028, step = 4200 (1.522 sec)\u001b[0m\n",
      "\u001b[31m2019-08-30 16:27:08,470 INFO - tensorflow - global_step/sec: 65.378\u001b[0m\n",
      "\u001b[31m2019-08-30 16:27:08,471 INFO - tensorflow - loss = 0.00030385575, step = 4300 (1.530 sec)\u001b[0m\n",
      "\u001b[31m2019-08-30 16:27:09,991 INFO - tensorflow - global_step/sec: 65.734\u001b[0m\n",
      "\u001b[31m2019-08-30 16:27:09,992 INFO - tensorflow - loss = 0.0019969386, step = 4400 (1.521 sec)\u001b[0m\n",
      "\u001b[31m2019-08-30 16:27:11,507 INFO - tensorflow - global_step/sec: 65.9969\u001b[0m\n",
      "\u001b[31m2019-08-30 16:27:11,508 INFO - tensorflow - loss = 0.025978323, step = 4500 (1.515 sec)\u001b[0m\n",
      "\u001b[31m2019-08-30 16:27:13,039 INFO - tensorflow - global_step/sec: 65.2387\u001b[0m\n",
      "\u001b[31m2019-08-30 16:27:13,041 INFO - tensorflow - loss = 0.0010576796, step = 4600 (1.533 sec)\u001b[0m\n",
      "\u001b[31m2019-08-30 16:27:14,533 INFO - tensorflow - global_step/sec: 66.9393\u001b[0m\n",
      "\u001b[31m2019-08-30 16:27:14,534 INFO - tensorflow - loss = 0.0001873365, step = 4700 (1.494 sec)\u001b[0m\n",
      "\u001b[31m2019-08-30 16:27:16,050 INFO - tensorflow - global_step/sec: 65.9527\u001b[0m\n",
      "\u001b[31m2019-08-30 16:27:16,051 INFO - tensorflow - loss = 0.00025747548, step = 4800 (1.516 sec)\u001b[0m\n",
      "\u001b[31m2019-08-30 16:27:17,568 INFO - tensorflow - global_step/sec: 65.8363\u001b[0m\n",
      "\u001b[31m2019-08-30 16:27:17,570 INFO - tensorflow - loss = 0.00061743427, step = 4900 (1.519 sec)\u001b[0m\n",
      "\u001b[31m2019-08-30 16:27:19,068 INFO - tensorflow - Saving checkpoints for 5000 into s3://sagemaker-us-east-2-185004506247/sagemaker-tensorflow-2019-08-30-16-22-49-311/checkpoints/model.ckpt.\u001b[0m\n",
      "\u001b[31m2019-08-30 16:27:21.295289: E tensorflow/core/platform/s3/aws_logging.cc:60] No response body. Response code: 404\u001b[0m\n",
      "\u001b[31m2019-08-30 16:27:21.295336: W tensorflow/core/platform/s3/aws_logging.cc:57] If the signature check failed. This could be because of a time skew. Attempting to adjust the signer.\u001b[0m\n",
      "\u001b[31m2019-08-30 16:27:21,585 INFO - tensorflow - Calling model_fn.\u001b[0m\n",
      "\u001b[31m2019-08-30 16:27:21,784 INFO - tensorflow - Done calling model_fn.\u001b[0m\n",
      "\u001b[31m2019-08-30 16:27:21,806 INFO - tensorflow - Starting evaluation at 2019-08-30-16:27:21\u001b[0m\n",
      "\u001b[31m2019-08-30 16:27:21,889 INFO - tensorflow - Graph was finalized.\u001b[0m\n",
      "\u001b[31m2019-08-30 16:27:21,946 INFO - tensorflow - Restoring parameters from s3://sagemaker-us-east-2-185004506247/sagemaker-tensorflow-2019-08-30-16-22-49-311/checkpoints/model.ckpt-5000\u001b[0m\n",
      "\u001b[31m2019-08-30 16:27:22,289 INFO - tensorflow - Running local_init_op.\u001b[0m\n",
      "\u001b[31m2019-08-30 16:27:22,296 INFO - tensorflow - Done running local_init_op.\u001b[0m\n",
      "\u001b[31m2019-08-30 16:27:22,500 INFO - tensorflow - Evaluation [10/100]\u001b[0m\n",
      "\u001b[31m2019-08-30 16:27:22,653 INFO - tensorflow - Evaluation [20/100]\u001b[0m\n",
      "\u001b[31m2019-08-30 16:27:22,817 INFO - tensorflow - Evaluation [30/100]\u001b[0m\n",
      "\u001b[31m2019-08-30 16:27:22,968 INFO - tensorflow - Evaluation [40/100]\u001b[0m\n",
      "\u001b[31m2019-08-30 16:27:23,119 INFO - tensorflow - Evaluation [50/100]\u001b[0m\n",
      "\u001b[31m2019-08-30 16:27:23,265 INFO - tensorflow - Evaluation [60/100]\u001b[0m\n",
      "\u001b[31m2019-08-30 16:27:23,424 INFO - tensorflow - Evaluation [70/100]\u001b[0m\n",
      "\u001b[31m2019-08-30 16:27:23,573 INFO - tensorflow - Evaluation [80/100]\u001b[0m\n",
      "\u001b[31m2019-08-30 16:27:23,722 INFO - tensorflow - Evaluation [90/100]\u001b[0m\n",
      "\u001b[31m2019-08-30 16:27:23,872 INFO - tensorflow - Evaluation [100/100]\u001b[0m\n",
      "\u001b[31m2019-08-30 16:27:23,901 INFO - tensorflow - Finished evaluation at 2019-08-30-16:27:23\u001b[0m\n",
      "\u001b[31m2019-08-30 16:27:23,902 INFO - tensorflow - Saving dict for global step 5000: accuracy = 0.924, global_step = 5000, loss = 0.35193658\u001b[0m\n",
      "\u001b[31m2019-08-30 16:27:23.910017: E tensorflow/core/platform/s3/aws_logging.cc:60] No response body. Response code: 404\u001b[0m\n",
      "\u001b[31m2019-08-30 16:27:23.910053: W tensorflow/core/platform/s3/aws_logging.cc:57] If the signature check failed. This could be because of a time skew. Attempting to adjust the signer.\u001b[0m\n",
      "\u001b[31m2019-08-30 16:27:23.926667: E tensorflow/core/platform/s3/aws_logging.cc:60] No response body. Response code: 404\u001b[0m\n",
      "\u001b[31m2019-08-30 16:27:23.926718: W tensorflow/core/platform/s3/aws_logging.cc:57] If the signature check failed. This could be because of a time skew. Attempting to adjust the signer.\u001b[0m\n",
      "\u001b[31m2019-08-30 16:27:23.942477: E tensorflow/core/platform/s3/aws_logging.cc:60] No response body. Response code: 404\u001b[0m\n",
      "\u001b[31m2019-08-30 16:27:23.942520: W tensorflow/core/platform/s3/aws_logging.cc:57] If the signature check failed. This could be because of a time skew. Attempting to adjust the signer.\u001b[0m\n",
      "\u001b[31m2019-08-30 16:27:24,211 INFO - tensorflow - Saving 'checkpoint_path' summary for global step 5000: s3://sagemaker-us-east-2-185004506247/sagemaker-tensorflow-2019-08-30-16-22-49-311/checkpoints/model.ckpt-5000\u001b[0m\n",
      "\u001b[31m2019-08-30 16:27:24.263811: E tensorflow/core/platform/s3/aws_logging.cc:60] No response body. Response code: 404\u001b[0m\n",
      "\u001b[31m2019-08-30 16:27:24.263858: W tensorflow/core/platform/s3/aws_logging.cc:57] If the signature check failed. This could be because of a time skew. Attempting to adjust the signer.\u001b[0m\n",
      "\u001b[31m2019-08-30 16:27:24.279560: E tensorflow/core/platform/s3/aws_logging.cc:60] No response body. Response code: 404\u001b[0m\n",
      "\u001b[31m2019-08-30 16:27:24.279605: W tensorflow/core/platform/s3/aws_logging.cc:57] If the signature check failed. This could be because of a time skew. Attempting to adjust the signer.\u001b[0m\n",
      "\u001b[31m2019-08-30 16:27:24.292777: E tensorflow/core/platform/s3/aws_logging.cc:60] No response body. Response code: 404\u001b[0m\n",
      "\u001b[31m2019-08-30 16:27:24.292818: W tensorflow/core/platform/s3/aws_logging.cc:57] If the signature check failed. This could be because of a time skew. Attempting to adjust the signer.\u001b[0m\n",
      "\u001b[31m2019-08-30 16:27:24.310773: E tensorflow/core/platform/s3/aws_logging.cc:60] No response body. Response code: 404\u001b[0m\n",
      "\u001b[31m2019-08-30 16:27:24.310825: W tensorflow/core/platform/s3/aws_logging.cc:57] If the signature check failed. This could be because of a time skew. Attempting to adjust the signer.\u001b[0m\n",
      "\u001b[31m2019-08-30 16:27:24.325901: E tensorflow/core/platform/s3/aws_logging.cc:60] No response body. Response code: 404\u001b[0m\n",
      "\u001b[31m2019-08-30 16:27:24.325939: W tensorflow/core/platform/s3/aws_logging.cc:57] If the signature check failed. This could be because of a time skew. Attempting to adjust the signer.\u001b[0m\n",
      "\u001b[31m2019-08-30 16:27:24.343465: E tensorflow/core/platform/s3/aws_logging.cc:60] No response body. Response code: 404\u001b[0m\n",
      "\u001b[31m2019-08-30 16:27:24.343499: W tensorflow/core/platform/s3/aws_logging.cc:57] If the signature check failed. This could be because of a time skew. Attempting to adjust the signer.\u001b[0m\n",
      "\u001b[31m2019-08-30 16:27:24,404 INFO - tensorflow - Calling model_fn.\u001b[0m\n",
      "\u001b[31m2019-08-30 16:27:24,472 INFO - tensorflow - Done calling model_fn.\u001b[0m\n",
      "\u001b[31m2019-08-30 16:27:24,472 INFO - tensorflow - Signatures INCLUDED in export for Eval: None\u001b[0m\n",
      "\u001b[31m2019-08-30 16:27:24,472 INFO - tensorflow - Signatures INCLUDED in export for Classify: None\u001b[0m\n",
      "\u001b[31m2019-08-30 16:27:24,472 INFO - tensorflow - Signatures INCLUDED in export for Regress: None\u001b[0m\n",
      "\u001b[31m2019-08-30 16:27:24,472 INFO - tensorflow - Signatures INCLUDED in export for Predict: ['serving_default', 'predictions']\u001b[0m\n",
      "\u001b[31m2019-08-30 16:27:24,472 INFO - tensorflow - Signatures INCLUDED in export for Train: None\u001b[0m\n",
      "\u001b[31m2019-08-30 16:27:24,551 INFO - tensorflow - Restoring parameters from s3://sagemaker-us-east-2-185004506247/sagemaker-tensorflow-2019-08-30-16-22-49-311/checkpoints/model.ckpt-5000\u001b[0m\n",
      "\u001b[31m2019-08-30 16:27:24,900 WARNING - tensorflow - From /usr/local/lib/python2.7/dist-packages/tensorflow/python/estimator/estimator.py:1018: calling add_meta_graph_and_variables (from tensorflow.python.saved_model.builder_impl) with legacy_init_op is deprecated and will be removed in a future version.\u001b[0m\n",
      "\u001b[31mInstructions for updating:\u001b[0m\n",
      "\u001b[31mPass your op to the equivalent parameter main_op instead.\u001b[0m\n",
      "\u001b[31m2019-08-30 16:27:24,900 INFO - tensorflow - Assets added to graph.\u001b[0m\n",
      "\u001b[31m2019-08-30 16:27:24,900 INFO - tensorflow - No assets to write.\u001b[0m\n",
      "\u001b[31m2019-08-30 16:27:24.914576: E tensorflow/core/platform/s3/aws_logging.cc:60] No response body. Response code: 404\u001b[0m\n",
      "\u001b[31m2019-08-30 16:27:24.914625: W tensorflow/core/platform/s3/aws_logging.cc:57] If the signature check failed. This could be because of a time skew. Attempting to adjust the signer.\u001b[0m\n",
      "\u001b[31m2019-08-30 16:27:24.937310: E tensorflow/core/platform/s3/aws_logging.cc:60] No response body. Response code: 404\u001b[0m\n",
      "\u001b[31m2019-08-30 16:27:24.937356: W tensorflow/core/platform/s3/aws_logging.cc:57] If the signature check failed. This could be because of a time skew. Attempting to adjust the signer.\u001b[0m\n",
      "\u001b[31m2019-08-30 16:27:24.957198: E tensorflow/core/platform/s3/aws_logging.cc:60] No response body. Response code: 404\u001b[0m\n",
      "\u001b[31m2019-08-30 16:27:24.957233: W tensorflow/core/platform/s3/aws_logging.cc:57] If the signature check failed. This could be because of a time skew. Attempting to adjust the signer.\u001b[0m\n",
      "\u001b[31m2019-08-30 16:27:27.492789: E tensorflow/core/platform/s3/aws_logging.cc:60] No response body. Response code: 404\u001b[0m\n",
      "\u001b[31m2019-08-30 16:27:27.492831: W tensorflow/core/platform/s3/aws_logging.cc:57] If the signature check failed. This could be because of a time skew. Attempting to adjust the signer.\u001b[0m\n",
      "\u001b[31m2019-08-30 16:27:27,529 INFO - tensorflow - SavedModel written to: s3://sagemaker-us-east-2-185004506247/sagemaker-tensorflow-2019-08-30-16-22-49-311/checkpoints/export/Servo/temp-1567182444/saved_model.pb\u001b[0m\n",
      "\u001b[31m2019-08-30 16:27:27.538108: E tensorflow/core/platform/s3/aws_logging.cc:60] No response body. Response code: 404\u001b[0m\n",
      "\u001b[31m2019-08-30 16:27:27.538143: W tensorflow/core/platform/s3/aws_logging.cc:57] If the signature check failed. This could be because of a time skew. Attempting to adjust the signer.\u001b[0m\n",
      "\u001b[31m2019-08-30 16:27:28.008810: E tensorflow/core/platform/s3/aws_logging.cc:60] No response body. Response code: 404\u001b[0m\n",
      "\u001b[31m2019-08-30 16:27:28.008854: W tensorflow/core/platform/s3/aws_logging.cc:57] If the signature check failed. This could be because of a time skew. Attempting to adjust the signer.\u001b[0m\n",
      "\u001b[31m2019-08-30 16:27:28.028746: E tensorflow/core/platform/s3/aws_logging.cc:60] No response body. Response code: 404\u001b[0m\n",
      "\u001b[31m2019-08-30 16:27:28.028783: W tensorflow/core/platform/s3/aws_logging.cc:57] If the signature check failed. This could be because of a time skew. Attempting to adjust the signer.\u001b[0m\n",
      "\u001b[31m2019-08-30 16:27:28,258 INFO - tensorflow - Loss for final step: 0.0003862679.\u001b[0m\n",
      "\u001b[31m2019-08-30 16:27:28,533 INFO - tf_container - Downloaded saved model at /opt/ml/model/export/Servo/1567182444\u001b[0m\n",
      "\n",
      "2019-08-30 16:27:38 Uploading - Uploading generated training model\n",
      "2019-08-30 16:27:38 Completed - Training job completed\n",
      "Training seconds: 167\n",
      "Billable seconds: 167\n"
     ]
    }
   ],
   "source": [
    "from sagemaker.tensorflow import TensorFlow\n",
    "deepgauge_estimator = TensorFlow(entry_point='deepgauge.py',\n",
    "                             role=role,\n",
    "                             framework_version='1.11.0',\n",
    "                             training_steps=5000, \n",
    "                             evaluation_steps=100,\n",
    "                             train_instance_count=1,\n",
    "                             train_instance_type='ml.p3.2xlarge')\n",
    "deepgauge_estimator.fit(inputs)"
   ]
  },
  {
   "cell_type": "markdown",
   "metadata": {},
   "source": [
    "The **```fit```** method will create a training job in two **ml.c4.xlarge** instances. The logs above will show the instances doing training, evaluation, and incrementing the number of **training steps**. \n",
    "\n",
    "In the end of the training, the training job will generate a saved model for TF serving."
   ]
  },
  {
   "cell_type": "markdown",
   "metadata": {},
   "source": [
    "# Deploy the trained model to prepare for predictions (the old way)\n",
    "\n",
    "The deploy() method creates an endpoint which serves prediction requests in real-time."
   ]
  },
  {
   "cell_type": "code",
   "execution_count": 5,
   "metadata": {},
   "outputs": [
    {
     "name": "stderr",
     "output_type": "stream",
     "text": [
      "The Python 2 tensorflow images will be soon deprecated and may not be supported for newer upcoming versions of the tensorflow images.\n",
      "Please set the argument \"py_version='py3'\" to use the Python 3 tensorflow image.\n"
     ]
    },
    {
     "name": "stdout",
     "output_type": "stream",
     "text": [
      "--------------------------------------------------------------------------------------!"
     ]
    }
   ],
   "source": [
    "deepgauge_predictor = deepgauge_estimator.deploy(initial_instance_count=1,\n",
    "                                         instance_type='ml.m4.xlarge')"
   ]
  },
  {
   "cell_type": "markdown",
   "metadata": {},
   "source": [
    "## Invoking the endpoint"
   ]
  },
  {
   "cell_type": "code",
   "execution_count": 11,
   "metadata": {},
   "outputs": [
    {
     "name": "stdout",
     "output_type": "stream",
     "text": [
      "========================================\n",
      "label is 27\n",
      "prediction is 27\n",
      "========================================\n",
      "label is 28\n",
      "prediction is 28\n",
      "========================================\n",
      "label is 8\n",
      "prediction is 8\n",
      "========================================\n",
      "label is 5\n",
      "prediction is 5\n",
      "========================================\n",
      "label is 12\n",
      "prediction is 12\n",
      "========================================\n",
      "label is 22\n",
      "prediction is 22\n",
      "========================================\n",
      "label is 1\n",
      "prediction is 1\n",
      "========================================\n",
      "label is 30\n",
      "prediction is 30\n",
      "========================================\n",
      "label is 21\n",
      "prediction is 20\n",
      "========================================\n",
      "label is 9\n",
      "prediction is 9\n",
      "========================================\n",
      "label is 25\n",
      "prediction is 25\n",
      "========================================\n",
      "label is 15\n",
      "prediction is 15\n",
      "========================================\n",
      "label is 5\n",
      "prediction is 5\n",
      "========================================\n",
      "label is 19\n",
      "prediction is 19\n",
      "========================================\n",
      "label is 13\n",
      "prediction is 13\n",
      "========================================\n",
      "label is 7\n",
      "prediction is 8\n",
      "========================================\n",
      "label is 30\n",
      "prediction is 30\n",
      "========================================\n",
      "label is 30\n",
      "prediction is 30\n",
      "========================================\n",
      "label is 12\n",
      "prediction is 11\n",
      "========================================\n",
      "label is 8\n",
      "prediction is 8\n",
      "========================================\n",
      "label is 11\n",
      "prediction is 12\n",
      "========================================\n",
      "label is 22\n",
      "prediction is 22\n",
      "========================================\n",
      "label is 4\n",
      "prediction is 5\n",
      "========================================\n",
      "label is 10\n",
      "prediction is 10\n",
      "========================================\n",
      "label is 23\n",
      "prediction is 23\n",
      "========================================\n",
      "label is 4\n",
      "prediction is 4\n",
      "========================================\n",
      "label is 25\n",
      "prediction is 25\n",
      "========================================\n",
      "label is 8\n",
      "prediction is 8\n",
      "========================================\n",
      "label is 21\n",
      "prediction is 21\n",
      "========================================\n",
      "label is 23\n",
      "prediction is 23\n",
      "========================================\n",
      "label is 27\n",
      "prediction is 27\n",
      "========================================\n",
      "label is 29\n",
      "prediction is 29\n"
     ]
    }
   ],
   "source": [
    "import numpy as np\n",
    "import tensorflow as tf\n",
    "import pickle\n",
    "\n",
    "with open('./data/test_dataset.pickle', 'rb') as handle:\n",
    "    test_dataset = pickle.load(handle)\n",
    "\n",
    "    \n",
    "# len(test_dataset['images'][0])\n",
    "for i in range(32):\n",
    "    data = ((test_dataset['images'][i])/255).reshape([28*28, ]).tolist()\n",
    "    tensor_proto = tf.make_tensor_proto(values=np.asarray(data), shape=[1, len(data)], dtype=tf.float32)\n",
    "    tensor_proto\n",
    "    predict_response = deepgauge_predictor.predict(tensor_proto)\n",
    "\n",
    "    print(\"========================================\")\n",
    "    label = test_dataset['labels'][i]\n",
    "    print(\"label is {}\".format(label))\n",
    "    prediction = predict_response['outputs']['classes']['int64_val'][0]\n",
    "    print(\"prediction is {}\".format(prediction))\n",
    "    # tensor_proto"
   ]
  },
  {
   "cell_type": "markdown",
   "metadata": {},
   "source": [
    "## Deleting the endpoint"
   ]
  },
  {
   "cell_type": "code",
   "execution_count": 24,
   "metadata": {},
   "outputs": [],
   "source": [
    "sagemaker.Session().delete_endpoint(deepgauge_predictor.endpoint)"
   ]
  },
  {
   "cell_type": "markdown",
   "metadata": {},
   "source": [
    "# Deploy the trained model using Neo\n",
    "\n",
    "Now the model is ready to be compiled by Neo to be optimized for our hardware of choice. We are using the  ``TensorFlowEstimator.compile_model`` method to do this. For this example, our target hardware is ``'ml_c5'``. You can changed these to other supported target hardware if you prefer.\n",
    "\n",
    "## Compiling the model\n",
    "The ``input_shape`` is the definition for the model's input tensor and ``output_path`` is where the compiled model will be stored in S3. **Important. If the following command result in a permission error, scroll up and locate the value of execution role returned by `get_execution_role()`. The role must have access to the S3 bucket specified in ``output_path``.**"
   ]
  },
  {
   "cell_type": "code",
   "execution_count": 12,
   "metadata": {},
   "outputs": [
    {
     "name": "stderr",
     "output_type": "stream",
     "text": [
      "The Python 2 tensorflow images will be soon deprecated and may not be supported for newer upcoming versions of the tensorflow images.\n",
      "Please set the argument \"py_version='py3'\" to use the Python 3 tensorflow image.\n"
     ]
    },
    {
     "name": "stdout",
     "output_type": "stream",
     "text": [
      "?.....!"
     ]
    }
   ],
   "source": [
    "output_path = '/'.join(deepgauge_estimator.output_path.split('/')[:-1])\n",
    "optimized_estimator = deepgauge_estimator.compile_model(target_instance_family='ml_c5', \n",
    "                              input_shape={'data':[1, 784]},  # Batch size 1, 3 channels, 224x224 Images.\n",
    "                              output_path=output_path,\n",
    "                              framework='tensorflow', framework_version='1.11.0')"
   ]
  },
  {
   "cell_type": "code",
   "execution_count": 13,
   "metadata": {},
   "outputs": [
    {
     "data": {
      "text/plain": [
       "<sagemaker.tensorflow.model.TensorFlowModel at 0x7f8fb97236a0>"
      ]
     },
     "execution_count": 13,
     "metadata": {},
     "output_type": "execute_result"
    }
   ],
   "source": [
    "optimized_estimator"
   ]
  },
  {
   "cell_type": "markdown",
   "metadata": {},
   "source": [
    "## Deploying the compiled model"
   ]
  },
  {
   "cell_type": "code",
   "execution_count": 14,
   "metadata": {},
   "outputs": [
    {
     "name": "stdout",
     "output_type": "stream",
     "text": [
      "--------------------------------------------------------------------------------------!"
     ]
    }
   ],
   "source": [
    "optimized_predictor = optimized_estimator.deploy(initial_instance_count = 1,\n",
    "                                                 instance_type = 'ml.c5.4xlarge')"
   ]
  },
  {
   "cell_type": "code",
   "execution_count": 15,
   "metadata": {},
   "outputs": [],
   "source": [
    "def numpy_bytes_serializer(data):\n",
    "    f = io.BytesIO()\n",
    "    np.save(f, data)\n",
    "    f.seek(0)\n",
    "    return f.read()\n",
    "\n",
    "optimized_predictor.content_type = 'application/vnd+python.numpy+binary'\n",
    "optimized_predictor.serializer = numpy_bytes_serializer"
   ]
  },
  {
   "cell_type": "code",
   "execution_count": 32,
   "metadata": {},
   "outputs": [
    {
     "data": {
      "text/plain": [
       "array([0.8784314 , 0.8980392 , 0.8784314 , 0.8745098 , 0.6627451 ,\n",
       "       0.21176471, 0.05882353, 0.03921569, 0.05098039, 0.07843138,\n",
       "       0.10588235, 0.06666667, 0.07843138, 0.08235294, 0.07843138,\n",
       "       0.07058824, 0.06666667, 0.0627451 , 0.05098039, 0.04705882,\n",
       "       0.09019608, 0.07843138, 0.2509804 , 0.7176471 , 0.8901961 ,\n",
       "       0.8980392 , 0.88235295, 0.8627451 , 0.8666667 , 0.8862745 ,\n",
       "       0.80784315, 0.47843137, 0.10980392, 0.03921569, 0.04705882,\n",
       "       0.05882353, 0.08235294, 0.10196079, 0.10588235, 0.11372549,\n",
       "       0.12156863, 0.11372549, 0.10980392, 0.10980392, 0.10588235,\n",
       "       0.10196079, 0.08627451, 0.07843138, 0.05882353, 0.04705882,\n",
       "       0.09019608, 0.10980392, 0.5686275 , 0.8862745 , 0.8784314 ,\n",
       "       0.85490197, 0.87058824, 0.8784314 , 0.45882353, 0.07843138,\n",
       "       0.03529412, 0.04313726, 0.10980392, 0.14117648, 0.13725491,\n",
       "       0.14117648, 0.1254902 , 0.13725491, 0.10588235, 0.10196079,\n",
       "       0.10980392, 0.10980392, 0.10196079, 0.10588235, 0.13333334,\n",
       "       0.15294118, 0.1254902 , 0.07843138, 0.05098039, 0.04705882,\n",
       "       0.07843138, 0.49411765, 0.87058824, 0.8627451 , 0.8862745 ,\n",
       "       0.44313726, 0.05882353, 0.03921569, 0.05098039, 0.14117648,\n",
       "       0.17254902, 0.19215687, 0.18039216, 0.18039216, 0.20784314,\n",
       "       0.21960784, 0.23921569, 0.25490198, 0.2509804 , 0.25882354,\n",
       "       0.1764706 , 0.16470589, 0.13725491, 0.15686275, 0.16078432,\n",
       "       0.15294118, 0.12156863, 0.07058824, 0.05882353, 0.10588235,\n",
       "       0.54901963, 0.8901961 , 0.62352943, 0.06666667, 0.04313726,\n",
       "       0.0627451 , 0.11764706, 0.1764706 , 0.19215687, 0.16862746,\n",
       "       0.19607843, 0.21960784, 0.3137255 , 0.32156864, 0.29803923,\n",
       "       0.2901961 , 0.3254902 , 0.30588236, 0.27058825, 0.27450982,\n",
       "       0.23921569, 0.15294118, 0.1254902 , 0.1254902 , 0.14901961,\n",
       "       0.09019608, 0.04705882, 0.04313726, 0.10588235, 0.7176471 ,\n",
       "       0.14117648, 0.04705882, 0.0627451 , 0.09803922, 0.13725491,\n",
       "       0.16470589, 0.18431373, 0.23137255, 0.29411766, 0.3254902 ,\n",
       "       0.2784314 , 0.34117648, 0.32941177, 0.3019608 , 0.35686275,\n",
       "       0.27450982, 0.31764707, 0.35686275, 0.32156864, 0.2784314 ,\n",
       "       0.21568628, 0.16078432, 0.1254902 , 0.12941177, 0.09411765,\n",
       "       0.04313726, 0.04705882, 0.22745098, 0.06666667, 0.08235294,\n",
       "       0.07450981, 0.14117648, 0.1764706 , 0.18039216, 0.21960784,\n",
       "       0.2509804 , 0.3254902 , 0.34509805, 0.24313726, 0.36862746,\n",
       "       0.35686275, 0.39607844, 0.4       , 0.36078432, 0.37254903,\n",
       "       0.39607844, 0.24705882, 0.34509805, 0.24705882, 0.2509804 ,\n",
       "       0.16078432, 0.15686275, 0.15686275, 0.07450981, 0.04313726,\n",
       "       0.07058824, 0.05882353, 0.04313726, 0.14901961, 0.18431373,\n",
       "       0.21568628, 0.21568628, 0.3019608 , 0.33333334, 0.25882354,\n",
       "       0.38039216, 0.3764706 , 0.44313726, 0.4392157 , 0.49803922,\n",
       "       0.47058824, 0.4745098 , 0.4627451 , 0.4509804 , 0.37254903,\n",
       "       0.16862746, 0.3137255 , 0.3137255 , 0.29411766, 0.19215687,\n",
       "       0.21176471, 0.14509805, 0.05098039, 0.05882353, 0.03137255,\n",
       "       0.08627451, 0.19215687, 0.21568628, 0.1882353 , 0.32941177,\n",
       "       0.34117648, 0.36862746, 0.32941177, 0.43137255, 0.4509804 ,\n",
       "       0.49803922, 0.49803922, 0.5176471 , 0.53333336, 0.5137255 ,\n",
       "       0.52156866, 0.49803922, 0.21568628, 0.37254903, 0.2901961 ,\n",
       "       0.39215687, 0.3529412 , 0.24313726, 0.2       , 0.24705882,\n",
       "       0.12156863, 0.04313726, 0.03137255, 0.12941177, 0.21568628,\n",
       "       0.19607843, 0.24705882, 0.27058825, 0.32156864, 0.42352942,\n",
       "       0.4627451 , 0.47843137, 0.5254902 , 0.50980395, 0.54901963,\n",
       "       0.44705883, 0.3882353 , 0.5019608 , 0.52156866, 0.21568628,\n",
       "       0.42745098, 0.49019608, 0.46666667, 0.39607844, 0.32941177,\n",
       "       0.29411766, 0.19215687, 0.27058825, 0.24705882, 0.06666667,\n",
       "       0.04313726, 0.18039216, 0.23137255, 0.1764706 , 0.2901961 ,\n",
       "       0.38431373, 0.3372549 , 0.44313726, 0.5137255 , 0.5058824 ,\n",
       "       0.5411765 , 0.56078434, 0.5647059 , 0.43137255, 0.4627451 ,\n",
       "       0.49411765, 0.24705882, 0.3647059 , 0.5254902 , 0.49019608,\n",
       "       0.5176471 , 0.40784314, 0.38431373, 0.38039216, 0.23137255,\n",
       "       0.23921569, 0.26666668, 0.10980392, 0.05882353, 0.2       ,\n",
       "       0.20392157, 0.22352941, 0.3647059 , 0.38431373, 0.45490196,\n",
       "       0.49803922, 0.50980395, 0.5372549 , 0.5568628 , 0.57254905,\n",
       "       0.5647059 , 0.5686275 , 0.57254905, 0.2509804 , 0.26666668,\n",
       "       0.54509807, 0.52156866, 0.5137255 , 0.49411765, 0.5058824 ,\n",
       "       0.4862745 , 0.44313726, 0.2784314 , 0.21960784, 0.29411766,\n",
       "       0.15686275, 0.10196079, 0.21176471, 0.19215687, 0.24313726,\n",
       "       0.31764707, 0.39607844, 0.42745098, 0.52156866, 0.5411765 ,\n",
       "       0.5568628 , 0.56078434, 0.57254905, 0.5411765 , 0.32156864,\n",
       "       0.20392157, 0.1764706 , 0.5647059 , 0.54901963, 0.54901963,\n",
       "       0.5176471 , 0.5254902 , 0.5019608 , 0.39215687, 0.39215687,\n",
       "       0.3137255 , 0.22745098, 0.29803923, 0.20392157, 0.14117648,\n",
       "       0.21176471, 0.24705882, 0.28235295, 0.42745098, 0.42352942,\n",
       "       0.4745098 , 0.5176471 , 0.5411765 , 0.5568628 , 0.5686275 ,\n",
       "       0.57254905, 0.44705883, 0.09803922, 0.11764706, 0.33333334,\n",
       "       0.5647059 , 0.5647059 , 0.56078434, 0.5529412 , 0.5176471 ,\n",
       "       0.5411765 , 0.40784314, 0.49411765, 0.45490196, 0.2509804 ,\n",
       "       0.29803923, 0.21568628, 0.15686275, 0.21568628, 0.24313726,\n",
       "       0.30980393, 0.43137255, 0.42352942, 0.47058824, 0.53333336,\n",
       "       0.56078434, 0.5647059 , 0.5803922 , 0.5686275 , 0.35686275,\n",
       "       0.20392157, 0.34509805, 0.49411765, 0.5529412 , 0.57254905,\n",
       "       0.5411765 , 0.5411765 , 0.56078434, 0.54509807, 0.48235294,\n",
       "       0.53333336, 0.45490196, 0.26666668, 0.29411766, 0.21568628,\n",
       "       0.1254902 , 0.21960784, 0.2627451 , 0.25882354, 0.3764706 ,\n",
       "       0.4       , 0.49803922, 0.5372549 , 0.56078434, 0.5647059 ,\n",
       "       0.5568628 , 0.40784314, 0.07843138, 0.3529412 , 0.5254902 ,\n",
       "       0.5254902 , 0.54901963, 0.5529412 , 0.54509807, 0.54901963,\n",
       "       0.5686275 , 0.4745098 , 0.44705883, 0.4509804 , 0.43137255,\n",
       "       0.29803923, 0.30980393, 0.20784314, 0.07843138, 0.24313726,\n",
       "       0.32941177, 0.27450982, 0.43137255, 0.4745098 , 0.47058824,\n",
       "       0.54901963, 0.57254905, 0.54901963, 0.44313726, 0.05098039,\n",
       "       0.2627451 , 0.5411765 , 0.5529412 , 0.56078434, 0.5411765 ,\n",
       "       0.5254902 , 0.5686275 , 0.56078434, 0.5411765 , 0.54509807,\n",
       "       0.5058824 , 0.50980395, 0.39607844, 0.3764706 , 0.3529412 ,\n",
       "       0.17254902, 0.05490196, 0.21568628, 0.3372549 , 0.29803923,\n",
       "       0.38431373, 0.4745098 , 0.42352942, 0.54509807, 0.54901963,\n",
       "       0.44313726, 0.0627451 , 0.16470589, 0.5294118 , 0.57254905,\n",
       "       0.5803922 , 0.56078434, 0.5411765 , 0.5686275 , 0.56078434,\n",
       "       0.5568628 , 0.4862745 , 0.42745098, 0.49411765, 0.5019608 ,\n",
       "       0.3764706 , 0.42745098, 0.36862746, 0.12941177, 0.03529412,\n",
       "       0.16470589, 0.37254903, 0.3372549 , 0.29803923, 0.4       ,\n",
       "       0.4745098 , 0.5058824 , 0.5058824 , 0.08627451, 0.0627451 ,\n",
       "       0.3529412 , 0.42745098, 0.45882353, 0.49411765, 0.49019608,\n",
       "       0.5137255 , 0.5294118 , 0.54509807, 0.56078434, 0.5176471 ,\n",
       "       0.40392157, 0.42745098, 0.47843137, 0.37254903, 0.4745098 ,\n",
       "       0.3647059 , 0.05882353, 0.03529412, 0.09019608, 0.34117648,\n",
       "       0.4117647 , 0.30588236, 0.41568628, 0.49803922, 0.4862745 ,\n",
       "       0.47843137, 0.29411766, 0.25490198, 0.2901961 , 0.32941177,\n",
       "       0.31764707, 0.3019608 , 0.3137255 , 0.30980393, 0.32941177,\n",
       "       0.49803922, 0.41960785, 0.41568628, 0.5372549 , 0.5019608 ,\n",
       "       0.34509805, 0.4392157 , 0.4862745 , 0.25882354, 0.04705882,\n",
       "       0.07450981, 0.03529412, 0.19215687, 0.40392157, 0.4117647 ,\n",
       "       0.35686275, 0.27450982, 0.37254903, 0.4627451 , 0.47058824,\n",
       "       0.5294118 , 0.54509807, 0.5411765 , 0.5137255 , 0.54509807,\n",
       "       0.5529412 , 0.5568628 , 0.54509807, 0.54901963, 0.4745098 ,\n",
       "       0.40784314, 0.5254902 , 0.39607844, 0.3647059 , 0.49803922,\n",
       "       0.40392157, 0.08235294, 0.07843138, 0.0627451 , 0.03137255,\n",
       "       0.06666667, 0.3529412 , 0.44705883, 0.44313726, 0.3882353 ,\n",
       "       0.39215687, 0.43529412, 0.5019608 , 0.49411765, 0.4117647 ,\n",
       "       0.50980395, 0.5137255 , 0.5411765 , 0.5137255 , 0.47058824,\n",
       "       0.56078434, 0.52156866, 0.52156866, 0.47843137, 0.3882353 ,\n",
       "       0.37254903, 0.49803922, 0.4745098 , 0.23137255, 0.05098039,\n",
       "       0.08627451, 0.14509805, 0.05882353, 0.03921569, 0.09019608,\n",
       "       0.39607844, 0.41568628, 0.36862746, 0.4117647 , 0.49411765,\n",
       "       0.48235294, 0.34901962, 0.20784314, 0.42745098, 0.5372549 ,\n",
       "       0.5529412 , 0.32941177, 0.21176471, 0.46666667, 0.49803922,\n",
       "       0.52156866, 0.5294118 , 0.4509804 , 0.4862745 , 0.48235294,\n",
       "       0.29411766, 0.05098039, 0.09411765, 0.20784314, 0.627451  ,\n",
       "       0.06666667, 0.07058824, 0.05098039, 0.12156863, 0.3882353 ,\n",
       "       0.4       , 0.4392157 , 0.5019608 , 0.5137255 , 0.48235294,\n",
       "       0.35686275, 0.49803922, 0.54901963, 0.5529412 , 0.4862745 ,\n",
       "       0.34509805, 0.5137255 , 0.54509807, 0.5137255 , 0.5176471 ,\n",
       "       0.5058824 , 0.50980395, 0.3254902 , 0.09019608, 0.10980392,\n",
       "       0.10196079, 0.6745098 , 0.85882354, 0.44705883, 0.08235294,\n",
       "       0.04313726, 0.05490196, 0.10196079, 0.34117648, 0.44313726,\n",
       "       0.49411765, 0.52156866, 0.5137255 , 0.5137255 , 0.5254902 ,\n",
       "       0.50980395, 0.5411765 , 0.5372549 , 0.5254902 , 0.5176471 ,\n",
       "       0.5137255 , 0.5058824 , 0.5058824 , 0.48235294, 0.30980393,\n",
       "       0.07058824, 0.12156863, 0.14117648, 0.54509807, 0.83137256,\n",
       "       0.87058824, 0.84313726, 0.40392157, 0.0627451 , 0.04705882,\n",
       "       0.04705882, 0.07058824, 0.1882353 , 0.4392157 , 0.50980395,\n",
       "       0.49803922, 0.5176471 , 0.5137255 , 0.5254902 , 0.52156866,\n",
       "       0.5294118 , 0.52156866, 0.5176471 , 0.49803922, 0.4862745 ,\n",
       "       0.36078432, 0.19215687, 0.05490196, 0.1254902 , 0.13333334,\n",
       "       0.44313726, 0.8666667 , 0.8627451 , 0.87058824, 0.87058824,\n",
       "       0.84705883, 0.45882353, 0.0627451 , 0.05882353, 0.02745098,\n",
       "       0.0627451 , 0.08235294, 0.21176471, 0.4117647 , 0.4745098 ,\n",
       "       0.49803922, 0.5176471 , 0.50980395, 0.5019608 , 0.5019608 ,\n",
       "       0.44313726, 0.29411766, 0.13333334, 0.07058824, 0.05098039,\n",
       "       0.12941177, 0.1254902 , 0.52156866, 0.827451  , 0.84705883,\n",
       "       0.8627451 , 0.8745098 , 0.84705883, 0.85882354, 0.8666667 ,\n",
       "       0.627451  , 0.15294118, 0.05882353, 0.04705882, 0.02352941,\n",
       "       0.04705882, 0.09411765, 0.08627451, 0.12941177, 0.1764706 ,\n",
       "       0.1764706 , 0.16078432, 0.12156863, 0.0627451 , 0.04313726,\n",
       "       0.03921569, 0.09803922, 0.11764706, 0.18039216, 0.68235296,\n",
       "       0.8509804 , 0.8666667 , 0.8666667 , 0.84313726], dtype=float32)"
      ]
     },
     "execution_count": 32,
     "metadata": {},
     "output_type": "execute_result"
    }
   ],
   "source": [
    "data"
   ]
  },
  {
   "cell_type": "markdown",
   "metadata": {},
   "source": [
    "## Invoking the endpoint"
   ]
  },
  {
   "cell_type": "code",
   "execution_count": 31,
   "metadata": {},
   "outputs": [
    {
     "data": {
      "image/png": "[encoded data removed]",
      "text/plain": [
       "<PIL.Image.Image image mode=L size=28x28 at 0x7F8FB8A78898>"
      ]
     },
     "metadata": {},
     "output_type": "display_data"
    },
    {
     "name": "stdout",
     "output_type": "stream",
     "text": [
      "========================================\n",
      "label is 27\n",
      "prediction is [0.030563944950699806, 0.030563944950699806, 0.030563944950699806, 0.030563944950699806, 0.030563944950699806, 0.030563944950699806, 0.030563944950699806, 0.030563944950699806, 0.030563944950699806, 0.030563944950699806, 0.030563944950699806, 0.030563944950699806, 0.030563944950699806, 0.030563944950699806, 0.030563944950699806, 0.030563944950699806, 0.030563944950699806, 0.030563944950699806, 0.030563944950699806, 0.030563944950699806, 0.030563944950699806, 0.030563944950699806, 0.030563944950699806, 0.030563944950699806, 0.030563944950699806, 0.030563944950699806, 0.030563944950699806, 0.08308141678571701, 0.030563944950699806, 0.030563944950699806, 0.030563944950699806]\n"
     ]
    },
    {
     "data": {
      "image/png": "[encoded data removed]",
      "text/plain": [
       "<PIL.Image.Image image mode=L size=28x28 at 0x7F8FB955C4E0>"
      ]
     },
     "metadata": {},
     "output_type": "display_data"
    },
    {
     "name": "stdout",
     "output_type": "stream",
     "text": [
      "========================================\n",
      "label is 28\n",
      "prediction is [0.030563944950699806, 0.030563944950699806, 0.030563944950699806, 0.030563944950699806, 0.030563944950699806, 0.030563944950699806, 0.030563944950699806, 0.030563944950699806, 0.030563944950699806, 0.030563944950699806, 0.030563944950699806, 0.030563944950699806, 0.030563944950699806, 0.030563944950699806, 0.030563944950699806, 0.030563944950699806, 0.030563944950699806, 0.030563944950699806, 0.030563944950699806, 0.030563944950699806, 0.030563944950699806, 0.030563944950699806, 0.030563944950699806, 0.030563944950699806, 0.030563944950699806, 0.030563944950699806, 0.030563944950699806, 0.030563944950699806, 0.08308141678571701, 0.030563944950699806, 0.030563944950699806]\n"
     ]
    },
    {
     "data": {
      "image/png": "[encoded data removed]",
      "text/plain": [
       "<PIL.Image.Image image mode=L size=28x28 at 0x7F8FB8ACDC88>"
      ]
     },
     "metadata": {},
     "output_type": "display_data"
    },
    {
     "name": "stdout",
     "output_type": "stream",
     "text": [
      "========================================\n",
      "label is 8\n",
      "prediction is [0.030563944950699806, 0.030563944950699806, 0.030563944950699806, 0.030563944950699806, 0.030563944950699806, 0.030563944950699806, 0.030563944950699806, 0.030563944950699806, 0.08308141678571701, 0.030563944950699806, 0.030563944950699806, 0.030563944950699806, 0.030563944950699806, 0.030563944950699806, 0.030563944950699806, 0.030563944950699806, 0.030563944950699806, 0.030563944950699806, 0.030563944950699806, 0.030563944950699806, 0.030563944950699806, 0.030563944950699806, 0.030563944950699806, 0.030563944950699806, 0.030563944950699806, 0.030563944950699806, 0.030563944950699806, 0.030563944950699806, 0.030563944950699806, 0.030563944950699806, 0.030563944950699806]\n"
     ]
    },
    {
     "data": {
      "image/png": "[encoded data removed]",
      "text/plain": [
       "<PIL.Image.Image image mode=L size=28x28 at 0x7F8FB904EB70>"
      ]
     },
     "metadata": {},
     "output_type": "display_data"
    },
    {
     "name": "stdout",
     "output_type": "stream",
     "text": [
      "========================================\n",
      "label is 5\n",
      "prediction is [0.030563944950699806, 0.030563944950699806, 0.030563944950699806, 0.030563944950699806, 0.030563944950699806, 0.08308141678571701, 0.030563944950699806, 0.030563944950699806, 0.030563944950699806, 0.030563944950699806, 0.030563944950699806, 0.030563944950699806, 0.030563944950699806, 0.030563944950699806, 0.030563944950699806, 0.030563944950699806, 0.030563944950699806, 0.030563944950699806, 0.030563944950699806, 0.030563944950699806, 0.030563944950699806, 0.030563944950699806, 0.030563944950699806, 0.030563944950699806, 0.030563944950699806, 0.030563944950699806, 0.030563944950699806, 0.030563944950699806, 0.030563944950699806, 0.030563944950699806, 0.030563944950699806]\n"
     ]
    },
    {
     "data": {
      "image/png": "[encoded data removed]",
      "text/plain": [
       "<PIL.Image.Image image mode=L size=28x28 at 0x7F8FB904EC18>"
      ]
     },
     "metadata": {},
     "output_type": "display_data"
    },
    {
     "name": "stdout",
     "output_type": "stream",
     "text": [
      "========================================\n",
      "label is 12\n",
      "prediction is [0.030563944950699806, 0.030563944950699806, 0.030563944950699806, 0.030563944950699806, 0.030563944950699806, 0.030563944950699806, 0.030563944950699806, 0.030563944950699806, 0.030563944950699806, 0.030563944950699806, 0.030563944950699806, 0.030563944950699806, 0.08308141678571701, 0.030563944950699806, 0.030563944950699806, 0.030563944950699806, 0.030563944950699806, 0.030563944950699806, 0.030563944950699806, 0.030563944950699806, 0.030563944950699806, 0.030563944950699806, 0.030563944950699806, 0.030563944950699806, 0.030563944950699806, 0.030563944950699806, 0.030563944950699806, 0.030563944950699806, 0.030563944950699806, 0.030563944950699806, 0.030563944950699806]\n"
     ]
    },
    {
     "data": {
      "image/png": "[encoded data removed]",
      "text/plain": [
       "<PIL.Image.Image image mode=L size=28x28 at 0x7F8FB904EB70>"
      ]
     },
     "metadata": {},
     "output_type": "display_data"
    },
    {
     "name": "stdout",
     "output_type": "stream",
     "text": [
      "========================================\n",
      "label is 22\n",
      "prediction is [0.030563944950699806, 0.030563944950699806, 0.030563944950699806, 0.030563944950699806, 0.030563944950699806, 0.030563944950699806, 0.030563944950699806, 0.030563944950699806, 0.030563944950699806, 0.030563944950699806, 0.030563944950699806, 0.030563944950699806, 0.030563944950699806, 0.030563944950699806, 0.030563944950699806, 0.030563944950699806, 0.030563944950699806, 0.030563944950699806, 0.030563944950699806, 0.030563944950699806, 0.030563944950699806, 0.030563944950699806, 0.08308141678571701, 0.030563944950699806, 0.030563944950699806, 0.030563944950699806, 0.030563944950699806, 0.030563944950699806, 0.030563944950699806, 0.030563944950699806, 0.030563944950699806]\n"
     ]
    },
    {
     "data": {
      "image/png": "[encoded data removed]",
      "text/plain": [
       "<PIL.Image.Image image mode=L size=28x28 at 0x7F8FB904EC18>"
      ]
     },
     "metadata": {},
     "output_type": "display_data"
    },
    {
     "name": "stdout",
     "output_type": "stream",
     "text": [
      "========================================\n",
      "label is 1\n",
      "prediction is [0.030563944950699806, 0.08308141678571701, 0.030563944950699806, 0.030563944950699806, 0.030563944950699806, 0.030563944950699806, 0.030563944950699806, 0.030563944950699806, 0.030563944950699806, 0.030563944950699806, 0.030563944950699806, 0.030563944950699806, 0.030563944950699806, 0.030563944950699806, 0.030563944950699806, 0.030563944950699806, 0.030563944950699806, 0.030563944950699806, 0.030563944950699806, 0.030563944950699806, 0.030563944950699806, 0.030563944950699806, 0.030563944950699806, 0.030563944950699806, 0.030563944950699806, 0.030563944950699806, 0.030563944950699806, 0.030563944950699806, 0.030563944950699806, 0.030563944950699806, 0.030563944950699806]\n"
     ]
    },
    {
     "data": {
      "image/png": "[encoded data removed]",
      "text/plain": [
       "<PIL.Image.Image image mode=L size=28x28 at 0x7F8FB955C4E0>"
      ]
     },
     "metadata": {},
     "output_type": "display_data"
    },
    {
     "name": "stdout",
     "output_type": "stream",
     "text": [
      "========================================\n",
      "label is 30\n",
      "prediction is [0.030563944950699806, 0.030563944950699806, 0.030563944950699806, 0.030563944950699806, 0.030563944950699806, 0.030563944950699806, 0.030563944950699806, 0.030563944950699806, 0.030563944950699806, 0.030563944950699806, 0.030563944950699806, 0.030563944950699806, 0.030563944950699806, 0.030563944950699806, 0.030563944950699806, 0.030563944950699806, 0.030563944950699806, 0.030563944950699806, 0.030563944950699806, 0.030563944950699806, 0.030563944950699806, 0.030563944950699806, 0.030563944950699806, 0.030563944950699806, 0.030563944950699806, 0.030563944950699806, 0.030563944950699806, 0.030563944950699806, 0.030563944950699806, 0.030563944950699806, 0.08308141678571701]\n"
     ]
    },
    {
     "data": {
      "image/png": "[encoded data removed]",
      "text/plain": [
       "<PIL.Image.Image image mode=L size=28x28 at 0x7F8FB8ACDC88>"
      ]
     },
     "metadata": {},
     "output_type": "display_data"
    },
    {
     "name": "stdout",
     "output_type": "stream",
     "text": [
      "========================================\n",
      "label is 21\n",
      "prediction is [0.030563944950699806, 0.030563944950699806, 0.030563944950699806, 0.030563944950699806, 0.030563944950699806, 0.030563944950699806, 0.030563944950699806, 0.030563944950699806, 0.030563944950699806, 0.030563944950699806, 0.030563944950699806, 0.030563944950699806, 0.030563944950699806, 0.030563944950699806, 0.030563944950699806, 0.030563944950699806, 0.030563944950699806, 0.030563944950699806, 0.030563944950699806, 0.030563944950699806, 0.030563944950699806, 0.08308141678571701, 0.030563944950699806, 0.030563944950699806, 0.030563944950699806, 0.030563944950699806, 0.030563944950699806, 0.030563944950699806, 0.030563944950699806, 0.030563944950699806, 0.030563944950699806]\n"
     ]
    },
    {
     "data": {
      "image/png": "[encoded data removed]",
      "text/plain": [
       "<PIL.Image.Image image mode=L size=28x28 at 0x7F8FB90DADD8>"
      ]
     },
     "metadata": {},
     "output_type": "display_data"
    },
    {
     "name": "stdout",
     "output_type": "stream",
     "text": [
      "========================================\n",
      "label is 9\n",
      "prediction is [0.030563944950699806, 0.030563944950699806, 0.030563944950699806, 0.030563944950699806, 0.030563944950699806, 0.030563944950699806, 0.030563944950699806, 0.030563944950699806, 0.030563944950699806, 0.08308141678571701, 0.030563944950699806, 0.030563944950699806, 0.030563944950699806, 0.030563944950699806, 0.030563944950699806, 0.030563944950699806, 0.030563944950699806, 0.030563944950699806, 0.030563944950699806, 0.030563944950699806, 0.030563944950699806, 0.030563944950699806, 0.030563944950699806, 0.030563944950699806, 0.030563944950699806, 0.030563944950699806, 0.030563944950699806, 0.030563944950699806, 0.030563944950699806, 0.030563944950699806, 0.030563944950699806]\n"
     ]
    },
    {
     "data": {
      "image/png": "[encoded data removed]",
      "text/plain": [
       "<PIL.Image.Image image mode=L size=28x28 at 0x7F8FB955C4E0>"
      ]
     },
     "metadata": {},
     "output_type": "display_data"
    },
    {
     "name": "stdout",
     "output_type": "stream",
     "text": [
      "========================================\n",
      "label is 25\n",
      "prediction is [0.030563944950699806, 0.030563944950699806, 0.030563944950699806, 0.030563944950699806, 0.030563944950699806, 0.030563944950699806, 0.030563944950699806, 0.030563944950699806, 0.030563944950699806, 0.030563944950699806, 0.030563944950699806, 0.030563944950699806, 0.030563944950699806, 0.030563944950699806, 0.030563944950699806, 0.030563944950699806, 0.030563944950699806, 0.030563944950699806, 0.030563944950699806, 0.030563944950699806, 0.030563944950699806, 0.030563944950699806, 0.030563944950699806, 0.030563944950699806, 0.030563944950699806, 0.08308141678571701, 0.030563944950699806, 0.030563944950699806, 0.030563944950699806, 0.030563944950699806, 0.030563944950699806]\n"
     ]
    },
    {
     "data": {
      "image/png": "[encoded data removed]",
      "text/plain": [
       "<PIL.Image.Image image mode=L size=28x28 at 0x7F8FB916DB38>"
      ]
     },
     "metadata": {},
     "output_type": "display_data"
    },
    {
     "name": "stdout",
     "output_type": "stream",
     "text": [
      "========================================\n",
      "label is 15\n",
      "prediction is [0.030563944950699806, 0.030563944950699806, 0.030563944950699806, 0.030563944950699806, 0.030563944950699806, 0.030563944950699806, 0.030563944950699806, 0.030563944950699806, 0.030563944950699806, 0.030563944950699806, 0.030563944950699806, 0.030563944950699806, 0.030563944950699806, 0.030563944950699806, 0.030563944950699806, 0.08308141678571701, 0.030563944950699806, 0.030563944950699806, 0.030563944950699806, 0.030563944950699806, 0.030563944950699806, 0.030563944950699806, 0.030563944950699806, 0.030563944950699806, 0.030563944950699806, 0.030563944950699806, 0.030563944950699806, 0.030563944950699806, 0.030563944950699806, 0.030563944950699806, 0.030563944950699806]\n"
     ]
    },
    {
     "data": {
      "image/png": "[encoded data removed]",
      "text/plain": [
       "<PIL.Image.Image image mode=L size=28x28 at 0x7F8FB8ACDC88>"
      ]
     },
     "metadata": {},
     "output_type": "display_data"
    },
    {
     "name": "stdout",
     "output_type": "stream",
     "text": [
      "========================================\n",
      "label is 5\n",
      "prediction is [0.030563944950699806, 0.030563944950699806, 0.030563944950699806, 0.030563944950699806, 0.030563944950699806, 0.08308141678571701, 0.030563944950699806, 0.030563944950699806, 0.030563944950699806, 0.030563944950699806, 0.030563944950699806, 0.030563944950699806, 0.030563944950699806, 0.030563944950699806, 0.030563944950699806, 0.030563944950699806, 0.030563944950699806, 0.030563944950699806, 0.030563944950699806, 0.030563944950699806, 0.030563944950699806, 0.030563944950699806, 0.030563944950699806, 0.030563944950699806, 0.030563944950699806, 0.030563944950699806, 0.030563944950699806, 0.030563944950699806, 0.030563944950699806, 0.030563944950699806, 0.030563944950699806]\n"
     ]
    },
    {
     "data": {
      "image/png": "[encoded data removed]",
      "text/plain": [
       "<PIL.Image.Image image mode=L size=28x28 at 0x7F8FB904EC18>"
      ]
     },
     "metadata": {},
     "output_type": "display_data"
    },
    {
     "name": "stdout",
     "output_type": "stream",
     "text": [
      "========================================\n",
      "label is 19\n",
      "prediction is [0.030563944950699806, 0.030563944950699806, 0.030563944950699806, 0.030563944950699806, 0.030563944950699806, 0.030563944950699806, 0.030563944950699806, 0.030563944950699806, 0.030563944950699806, 0.030563944950699806, 0.030563944950699806, 0.030563944950699806, 0.030563944950699806, 0.030563944950699806, 0.030563944950699806, 0.030563944950699806, 0.030563944950699806, 0.030563944950699806, 0.030563944950699806, 0.08308141678571701, 0.030563944950699806, 0.030563944950699806, 0.030563944950699806, 0.030563944950699806, 0.030563944950699806, 0.030563944950699806, 0.030563944950699806, 0.030563944950699806, 0.030563944950699806, 0.030563944950699806, 0.030563944950699806]\n"
     ]
    },
    {
     "data": {
      "image/png": "[encoded data removed]",
      "text/plain": [
       "<PIL.Image.Image image mode=L size=28x28 at 0x7F8FB955C4E0>"
      ]
     },
     "metadata": {},
     "output_type": "display_data"
    },
    {
     "name": "stdout",
     "output_type": "stream",
     "text": [
      "========================================\n",
      "label is 13\n",
      "prediction is [0.030563944950699806, 0.030563944950699806, 0.030563944950699806, 0.030563944950699806, 0.030563944950699806, 0.030563944950699806, 0.030563944950699806, 0.030563944950699806, 0.030563944950699806, 0.030563944950699806, 0.030563944950699806, 0.030563944950699806, 0.030563944950699806, 0.08308141678571701, 0.030563944950699806, 0.030563944950699806, 0.030563944950699806, 0.030563944950699806, 0.030563944950699806, 0.030563944950699806, 0.030563944950699806, 0.030563944950699806, 0.030563944950699806, 0.030563944950699806, 0.030563944950699806, 0.030563944950699806, 0.030563944950699806, 0.030563944950699806, 0.030563944950699806, 0.030563944950699806, 0.030563944950699806]\n"
     ]
    },
    {
     "data": {
      "image/png": "[encoded data removed]",
      "text/plain": [
       "<PIL.Image.Image image mode=L size=28x28 at 0x7F8FB916DCF8>"
      ]
     },
     "metadata": {},
     "output_type": "display_data"
    },
    {
     "name": "stdout",
     "output_type": "stream",
     "text": [
      "========================================\n",
      "label is 7\n",
      "prediction is [0.030563944950699806, 0.030563944950699806, 0.030563944950699806, 0.030563944950699806, 0.030563944950699806, 0.030563944950699806, 0.030563944950699806, 0.030563944950699806, 0.08308141678571701, 0.030563944950699806, 0.030563944950699806, 0.030563944950699806, 0.030563944950699806, 0.030563944950699806, 0.030563944950699806, 0.030563944950699806, 0.030563944950699806, 0.030563944950699806, 0.030563944950699806, 0.030563944950699806, 0.030563944950699806, 0.030563944950699806, 0.030563944950699806, 0.030563944950699806, 0.030563944950699806, 0.030563944950699806, 0.030563944950699806, 0.030563944950699806, 0.030563944950699806, 0.030563944950699806, 0.030563944950699806]\n"
     ]
    },
    {
     "data": {
      "image/png": "[encoded data removed]",
      "text/plain": [
       "<PIL.Image.Image image mode=L size=28x28 at 0x7F8FB916DB38>"
      ]
     },
     "metadata": {},
     "output_type": "display_data"
    },
    {
     "name": "stdout",
     "output_type": "stream",
     "text": [
      "========================================\n",
      "label is 30\n",
      "prediction is [0.030563944950699806, 0.030563944950699806, 0.030563944950699806, 0.030563944950699806, 0.030563944950699806, 0.030563944950699806, 0.030563944950699806, 0.030563944950699806, 0.030563944950699806, 0.030563944950699806, 0.030563944950699806, 0.030563944950699806, 0.030563944950699806, 0.030563944950699806, 0.030563944950699806, 0.030563944950699806, 0.030563944950699806, 0.030563944950699806, 0.030563944950699806, 0.030563944950699806, 0.030563944950699806, 0.030563944950699806, 0.030563944950699806, 0.030563944950699806, 0.030563944950699806, 0.030563944950699806, 0.030563944950699806, 0.030563944950699806, 0.030563944950699806, 0.030563944950699806, 0.08308141678571701]\n"
     ]
    },
    {
     "data": {
      "image/png": "[encoded data removed]",
      "text/plain": [
       "<PIL.Image.Image image mode=L size=28x28 at 0x7F8FB916DCF8>"
      ]
     },
     "metadata": {},
     "output_type": "display_data"
    },
    {
     "name": "stdout",
     "output_type": "stream",
     "text": [
      "========================================\n",
      "label is 30\n",
      "prediction is [0.030563944950699806, 0.030563944950699806, 0.030563944950699806, 0.030563944950699806, 0.030563944950699806, 0.030563944950699806, 0.030563944950699806, 0.030563944950699806, 0.030563944950699806, 0.030563944950699806, 0.030563944950699806, 0.030563944950699806, 0.030563944950699806, 0.030563944950699806, 0.030563944950699806, 0.030563944950699806, 0.030563944950699806, 0.030563944950699806, 0.030563944950699806, 0.030563944950699806, 0.030563944950699806, 0.030563944950699806, 0.030563944950699806, 0.030563944950699806, 0.030563944950699806, 0.030563944950699806, 0.030563944950699806, 0.030563944950699806, 0.030563944950699806, 0.030563944950699806, 0.08308141678571701]\n"
     ]
    },
    {
     "data": {
      "image/png": "[encoded data removed]",
      "text/plain": [
       "<PIL.Image.Image image mode=L size=28x28 at 0x7F8FB955C4E0>"
      ]
     },
     "metadata": {},
     "output_type": "display_data"
    },
    {
     "name": "stdout",
     "output_type": "stream",
     "text": [
      "========================================\n",
      "label is 12\n",
      "prediction is [0.030563944950699806, 0.030563944950699806, 0.030563944950699806, 0.030563944950699806, 0.030563944950699806, 0.030563944950699806, 0.030563944950699806, 0.030563944950699806, 0.030563944950699806, 0.030563944950699806, 0.030563944950699806, 0.08308141678571701, 0.030563944950699806, 0.030563944950699806, 0.030563944950699806, 0.030563944950699806, 0.030563944950699806, 0.030563944950699806, 0.030563944950699806, 0.030563944950699806, 0.030563944950699806, 0.030563944950699806, 0.030563944950699806, 0.030563944950699806, 0.030563944950699806, 0.030563944950699806, 0.030563944950699806, 0.030563944950699806, 0.030563944950699806, 0.030563944950699806, 0.030563944950699806]\n"
     ]
    },
    {
     "data": {
      "image/png": "[encoded data removed]",
      "text/plain": [
       "<PIL.Image.Image image mode=L size=28x28 at 0x7F8FB8B17BE0>"
      ]
     },
     "metadata": {},
     "output_type": "display_data"
    },
    {
     "name": "stdout",
     "output_type": "stream",
     "text": [
      "========================================\n",
      "label is 8\n",
      "prediction is [0.030563944950699806, 0.030563944950699806, 0.030563944950699806, 0.030563944950699806, 0.030563944950699806, 0.030563944950699806, 0.030563944950699806, 0.030563944950699806, 0.08308141678571701, 0.030563944950699806, 0.030563944950699806, 0.030563944950699806, 0.030563944950699806, 0.030563944950699806, 0.030563944950699806, 0.030563944950699806, 0.030563944950699806, 0.030563944950699806, 0.030563944950699806, 0.030563944950699806, 0.030563944950699806, 0.030563944950699806, 0.030563944950699806, 0.030563944950699806, 0.030563944950699806, 0.030563944950699806, 0.030563944950699806, 0.030563944950699806, 0.030563944950699806, 0.030563944950699806, 0.030563944950699806]\n"
     ]
    },
    {
     "data": {
      "image/png": "[encoded data removed]",
      "text/plain": [
       "<PIL.Image.Image image mode=L size=28x28 at 0x7F8FB8B17FD0>"
      ]
     },
     "metadata": {},
     "output_type": "display_data"
    },
    {
     "name": "stdout",
     "output_type": "stream",
     "text": [
      "========================================\n",
      "label is 11\n",
      "prediction is [0.030563944950699806, 0.030563944950699806, 0.030563944950699806, 0.030563944950699806, 0.030563944950699806, 0.030563944950699806, 0.030563944950699806, 0.030563944950699806, 0.030563944950699806, 0.030563944950699806, 0.030563944950699806, 0.030563944950699806, 0.08308141678571701, 0.030563944950699806, 0.030563944950699806, 0.030563944950699806, 0.030563944950699806, 0.030563944950699806, 0.030563944950699806, 0.030563944950699806, 0.030563944950699806, 0.030563944950699806, 0.030563944950699806, 0.030563944950699806, 0.030563944950699806, 0.030563944950699806, 0.030563944950699806, 0.030563944950699806, 0.030563944950699806, 0.030563944950699806, 0.030563944950699806]\n"
     ]
    },
    {
     "data": {
      "image/png": "[encoded data removed]",
      "text/plain": [
       "<PIL.Image.Image image mode=L size=28x28 at 0x7F8FB90DADD8>"
      ]
     },
     "metadata": {},
     "output_type": "display_data"
    },
    {
     "name": "stdout",
     "output_type": "stream",
     "text": [
      "========================================\n",
      "label is 22\n",
      "prediction is [0.030563944950699806, 0.030563944950699806, 0.030563944950699806, 0.030563944950699806, 0.030563944950699806, 0.030563944950699806, 0.030563944950699806, 0.030563944950699806, 0.030563944950699806, 0.030563944950699806, 0.030563944950699806, 0.030563944950699806, 0.030563944950699806, 0.030563944950699806, 0.030563944950699806, 0.030563944950699806, 0.030563944950699806, 0.030563944950699806, 0.030563944950699806, 0.030563944950699806, 0.030563944950699806, 0.030563944950699806, 0.08308141678571701, 0.030563944950699806, 0.030563944950699806, 0.030563944950699806, 0.030563944950699806, 0.030563944950699806, 0.030563944950699806, 0.030563944950699806, 0.030563944950699806]\n"
     ]
    },
    {
     "data": {
      "image/png": "[encoded data removed]",
      "text/plain": [
       "<PIL.Image.Image image mode=L size=28x28 at 0x7F8FB8B17FD0>"
      ]
     },
     "metadata": {},
     "output_type": "display_data"
    },
    {
     "name": "stdout",
     "output_type": "stream",
     "text": [
      "========================================\n",
      "label is 4\n",
      "prediction is [0.030563944950699806, 0.030563944950699806, 0.030563944950699806, 0.030563944950699806, 0.030563944950699806, 0.08308141678571701, 0.030563944950699806, 0.030563944950699806, 0.030563944950699806, 0.030563944950699806, 0.030563944950699806, 0.030563944950699806, 0.030563944950699806, 0.030563944950699806, 0.030563944950699806, 0.030563944950699806, 0.030563944950699806, 0.030563944950699806, 0.030563944950699806, 0.030563944950699806, 0.030563944950699806, 0.030563944950699806, 0.030563944950699806, 0.030563944950699806, 0.030563944950699806, 0.030563944950699806, 0.030563944950699806, 0.030563944950699806, 0.030563944950699806, 0.030563944950699806, 0.030563944950699806]\n"
     ]
    },
    {
     "data": {
      "image/png": "[encoded data removed]",
      "text/plain": [
       "<PIL.Image.Image image mode=L size=28x28 at 0x7F8FB8B17BE0>"
      ]
     },
     "metadata": {},
     "output_type": "display_data"
    },
    {
     "name": "stdout",
     "output_type": "stream",
     "text": [
      "========================================\n",
      "label is 10\n",
      "prediction is [0.030563944950699806, 0.030563944950699806, 0.030563944950699806, 0.030563944950699806, 0.030563944950699806, 0.030563944950699806, 0.030563944950699806, 0.030563944950699806, 0.030563944950699806, 0.030563944950699806, 0.08308141678571701, 0.030563944950699806, 0.030563944950699806, 0.030563944950699806, 0.030563944950699806, 0.030563944950699806, 0.030563944950699806, 0.030563944950699806, 0.030563944950699806, 0.030563944950699806, 0.030563944950699806, 0.030563944950699806, 0.030563944950699806, 0.030563944950699806, 0.030563944950699806, 0.030563944950699806, 0.030563944950699806, 0.030563944950699806, 0.030563944950699806, 0.030563944950699806, 0.030563944950699806]\n"
     ]
    },
    {
     "data": {
      "image/png": "[encoded data removed]",
      "text/plain": [
       "<PIL.Image.Image image mode=L size=28x28 at 0x7F8FB90DADD8>"
      ]
     },
     "metadata": {},
     "output_type": "display_data"
    },
    {
     "name": "stdout",
     "output_type": "stream",
     "text": [
      "========================================\n",
      "label is 23\n",
      "prediction is [0.030563944950699806, 0.030563944950699806, 0.030563944950699806, 0.030563944950699806, 0.030563944950699806, 0.030563944950699806, 0.030563944950699806, 0.030563944950699806, 0.030563944950699806, 0.030563944950699806, 0.030563944950699806, 0.030563944950699806, 0.030563944950699806, 0.030563944950699806, 0.030563944950699806, 0.030563944950699806, 0.030563944950699806, 0.030563944950699806, 0.030563944950699806, 0.030563944950699806, 0.030563944950699806, 0.030563944950699806, 0.030563944950699806, 0.08308141678571701, 0.030563944950699806, 0.030563944950699806, 0.030563944950699806, 0.030563944950699806, 0.030563944950699806, 0.030563944950699806, 0.030563944950699806]\n"
     ]
    },
    {
     "data": {
      "image/png": "[encoded data removed]",
      "text/plain": [
       "<PIL.Image.Image image mode=L size=28x28 at 0x7F8FB955C4E0>"
      ]
     },
     "metadata": {},
     "output_type": "display_data"
    },
    {
     "name": "stdout",
     "output_type": "stream",
     "text": [
      "========================================\n",
      "label is 4\n",
      "prediction is [0.030563944950699806, 0.030563944950699806, 0.030563944950699806, 0.030563944950699806, 0.08308141678571701, 0.030563944950699806, 0.030563944950699806, 0.030563944950699806, 0.030563944950699806, 0.030563944950699806, 0.030563944950699806, 0.030563944950699806, 0.030563944950699806, 0.030563944950699806, 0.030563944950699806, 0.030563944950699806, 0.030563944950699806, 0.030563944950699806, 0.030563944950699806, 0.030563944950699806, 0.030563944950699806, 0.030563944950699806, 0.030563944950699806, 0.030563944950699806, 0.030563944950699806, 0.030563944950699806, 0.030563944950699806, 0.030563944950699806, 0.030563944950699806, 0.030563944950699806, 0.030563944950699806]\n"
     ]
    },
    {
     "data": {
      "image/png": "[encoded data removed]",
      "text/plain": [
       "<PIL.Image.Image image mode=L size=28x28 at 0x7F8FB8B17BE0>"
      ]
     },
     "metadata": {},
     "output_type": "display_data"
    },
    {
     "name": "stdout",
     "output_type": "stream",
     "text": [
      "========================================\n",
      "label is 25\n",
      "prediction is [0.030563944950699806, 0.030563944950699806, 0.030563944950699806, 0.030563944950699806, 0.030563944950699806, 0.030563944950699806, 0.030563944950699806, 0.030563944950699806, 0.030563944950699806, 0.030563944950699806, 0.030563944950699806, 0.030563944950699806, 0.030563944950699806, 0.030563944950699806, 0.030563944950699806, 0.030563944950699806, 0.030563944950699806, 0.030563944950699806, 0.030563944950699806, 0.030563944950699806, 0.030563944950699806, 0.030563944950699806, 0.030563944950699806, 0.030563944950699806, 0.030563944950699806, 0.08308141678571701, 0.030563944950699806, 0.030563944950699806, 0.030563944950699806, 0.030563944950699806, 0.030563944950699806]\n"
     ]
    },
    {
     "data": {
      "image/png": "[encoded data removed]",
      "text/plain": [
       "<PIL.Image.Image image mode=L size=28x28 at 0x7F8FB955C4E0>"
      ]
     },
     "metadata": {},
     "output_type": "display_data"
    },
    {
     "name": "stdout",
     "output_type": "stream",
     "text": [
      "========================================\n",
      "label is 8\n",
      "prediction is [0.030563944950699806, 0.030563944950699806, 0.030563944950699806, 0.030563944950699806, 0.030563944950699806, 0.030563944950699806, 0.030563944950699806, 0.030563944950699806, 0.08308141678571701, 0.030563944950699806, 0.030563944950699806, 0.030563944950699806, 0.030563944950699806, 0.030563944950699806, 0.030563944950699806, 0.030563944950699806, 0.030563944950699806, 0.030563944950699806, 0.030563944950699806, 0.030563944950699806, 0.030563944950699806, 0.030563944950699806, 0.030563944950699806, 0.030563944950699806, 0.030563944950699806, 0.030563944950699806, 0.030563944950699806, 0.030563944950699806, 0.030563944950699806, 0.030563944950699806, 0.030563944950699806]\n"
     ]
    },
    {
     "data": {
      "image/png": "[encoded data removed]",
      "text/plain": [
       "<PIL.Image.Image image mode=L size=28x28 at 0x7F8FB90DADD8>"
      ]
     },
     "metadata": {},
     "output_type": "display_data"
    },
    {
     "name": "stdout",
     "output_type": "stream",
     "text": [
      "========================================\n",
      "label is 21\n",
      "prediction is [0.030563944950699806, 0.030563944950699806, 0.030563944950699806, 0.030563944950699806, 0.030563944950699806, 0.030563944950699806, 0.030563944950699806, 0.030563944950699806, 0.030563944950699806, 0.030563944950699806, 0.030563944950699806, 0.030563944950699806, 0.030563944950699806, 0.030563944950699806, 0.030563944950699806, 0.030563944950699806, 0.030563944950699806, 0.030563944950699806, 0.030563944950699806, 0.030563944950699806, 0.030563944950699806, 0.08308141678571701, 0.030563944950699806, 0.030563944950699806, 0.030563944950699806, 0.030563944950699806, 0.030563944950699806, 0.030563944950699806, 0.030563944950699806, 0.030563944950699806, 0.030563944950699806]\n"
     ]
    },
    {
     "data": {
      "image/png": "[encoded data removed]",
      "text/plain": [
       "<PIL.Image.Image image mode=L size=28x28 at 0x7F8FB904EC18>"
      ]
     },
     "metadata": {},
     "output_type": "display_data"
    },
    {
     "name": "stdout",
     "output_type": "stream",
     "text": [
      "========================================\n",
      "label is 23\n",
      "prediction is [0.030563944950699806, 0.030563944950699806, 0.030563944950699806, 0.030563944950699806, 0.030563944950699806, 0.030563944950699806, 0.030563944950699806, 0.030563944950699806, 0.030563944950699806, 0.030563944950699806, 0.030563944950699806, 0.030563944950699806, 0.030563944950699806, 0.030563944950699806, 0.030563944950699806, 0.030563944950699806, 0.030563944950699806, 0.030563944950699806, 0.030563944950699806, 0.030563944950699806, 0.030563944950699806, 0.030563944950699806, 0.030563944950699806, 0.08308141678571701, 0.030563944950699806, 0.030563944950699806, 0.030563944950699806, 0.030563944950699806, 0.030563944950699806, 0.030563944950699806, 0.030563944950699806]\n"
     ]
    },
    {
     "data": {
      "image/png": "[encoded data removed]",
      "text/plain": [
       "<PIL.Image.Image image mode=L size=28x28 at 0x7F8FB904EB70>"
      ]
     },
     "metadata": {},
     "output_type": "display_data"
    },
    {
     "name": "stdout",
     "output_type": "stream",
     "text": [
      "========================================\n",
      "label is 27\n",
      "prediction is [0.030563944950699806, 0.030563944950699806, 0.030563944950699806, 0.030563944950699806, 0.030563944950699806, 0.030563944950699806, 0.030563944950699806, 0.030563944950699806, 0.030563944950699806, 0.030563944950699806, 0.030563944950699806, 0.030563944950699806, 0.030563944950699806, 0.030563944950699806, 0.030563944950699806, 0.030563944950699806, 0.030563944950699806, 0.030563944950699806, 0.030563944950699806, 0.030563944950699806, 0.030563944950699806, 0.030563944950699806, 0.030563944950699806, 0.030563944950699806, 0.030563944950699806, 0.030563944950699806, 0.030563944950699806, 0.08308141678571701, 0.030563944950699806, 0.030563944950699806, 0.030563944950699806]\n"
     ]
    },
    {
     "data": {
      "image/png": "[encoded data removed]",
      "text/plain": [
       "<PIL.Image.Image image mode=L size=28x28 at 0x7F8FB955C4E0>"
      ]
     },
     "metadata": {},
     "output_type": "display_data"
    },
    {
     "name": "stdout",
     "output_type": "stream",
     "text": [
      "========================================\n",
      "label is 29\n",
      "prediction is [0.030563944950699806, 0.030563944950699806, 0.030563944950699806, 0.030563944950699806, 0.030563944950699806, 0.030563944950699806, 0.030563944950699806, 0.030563944950699806, 0.030563944950699806, 0.030563944950699806, 0.030563944950699806, 0.030563944950699806, 0.030563944950699806, 0.030563944950699806, 0.030563944950699806, 0.030563944950699806, 0.030563944950699806, 0.030563944950699806, 0.030563944950699806, 0.030563944950699806, 0.030563944950699806, 0.030563944950699806, 0.030563944950699806, 0.030563944950699806, 0.030563944950699806, 0.030563944950699806, 0.030563944950699806, 0.030563944950699806, 0.030563944950699806, 0.08308141678571701, 0.030563944950699806]\n"
     ]
    }
   ],
   "source": [
    "from IPython import display\n",
    "import PIL.Image\n",
    "import io\n",
    "\n",
    "for i in range(32):\n",
    "    data_plt = test_dataset['images'][i]/255\n",
    "    data = ((test_dataset['images'][i])/255).reshape([28*28, ]).astype('float32') \n",
    "    \n",
    "    # Display image\n",
    "    im = PIL.Image.fromarray(data_plt.reshape((28,28))*255).convert('L')\n",
    "    display.display(im)\n",
    "    # Invoke endpoint with image\n",
    "    predict_response = optimized_predictor.predict(data)\n",
    "    \n",
    "    print(\"========================================\")\n",
    "    label = test_dataset['labels'][i]\n",
    "    print(\"label is {}\".format(label))\n",
    "    prediction = predict_response\n",
    "    print(\"prediction is {}\".format(prediction))"
   ]
  },
  {
   "cell_type": "markdown",
   "metadata": {},
   "source": [
    "## Deleting endpoint"
   ]
  },
  {
   "cell_type": "code",
   "execution_count": null,
   "metadata": {},
   "outputs": [],
   "source": [
    "sagemaker.Session().delete_endpoint(optimized_predictor.endpoint)"
   ]
  },
  {
   "cell_type": "code",
   "execution_count": null,
   "metadata": {},
   "outputs": [],
   "source": []
  }
 ],
 "metadata": {
  "kernelspec": {
   "display_name": "conda_amazonei_tensorflow_p36",
   "language": "python",
   "name": "conda_amazonei_tensorflow_p36"
  },
  "language_info": {
   "codemirror_mode": {
    "name": "ipython",
    "version": 3
   },
   "file_extension": ".py",
   "mimetype": "text/x-python",
   "name": "python",
   "nbconvert_exporter": "python",
   "pygments_lexer": "ipython3",
   "version": "3.6.5"
  },
  "notice": "Copyright 2017 Amazon.com, Inc. or its affiliates. All Rights Reserved.  Licensed under the Apache License, Version 2.0 (the \"License\"). You may not use this file except in compliance with the License. A copy of the License is located at http://aws.amazon.com/apache2.0/ or in the \"license\" file accompanying this file. This file is distributed on an \"AS IS\" BASIS, WITHOUT WARRANTIES OR CONDITIONS OF ANY KIND, either express or implied. See the License for the specific language governing permissions and limitations under the License."
 },
 "nbformat": 4,
 "nbformat_minor": 4
}
