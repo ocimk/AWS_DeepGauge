{
 "cells": [
  {
   "cell_type": "markdown",
   "metadata": {},
   "source": [
    "# TensorFlow BYOM: Train with Custom Training Script, Compile with Neo, and Deploy on SageMaker\n",
    "\n",
    "We will do deepgauge classification task, but this time we will compile the trained model using the Neo API backend, to optimize for our choice of hardware. Finally, we setup a real-time hosted endpoint in SageMaker for our compiled model using the Neo Deep Learning Runtime."
   ]
  },
  {
   "cell_type": "markdown",
   "metadata": {},
   "source": [
    "### Set up the environment"
   ]
  },
  {
   "cell_type": "code",
   "execution_count": 1,
   "metadata": {},
   "outputs": [],
   "source": [
    "import os\n",
    "import sagemaker\n",
    "from sagemaker import get_execution_role\n",
    "\n",
    "sagemaker_session = sagemaker.Session()\n",
    "\n",
    "role = get_execution_role()"
   ]
  },
  {
   "cell_type": "markdown",
   "metadata": {},
   "source": [
    "### Upload the data\n",
    "We use the ```sagemaker.Session.upload_data``` function to upload our datasets to an S3 location. The return value inputs identifies the location -- we will use this later when we start the training job."
   ]
  },
  {
   "cell_type": "code",
   "execution_count": 2,
   "metadata": {},
   "outputs": [],
   "source": [
    "inputs = sagemaker_session.upload_data(path='data', key_prefix='data/deepgauge')"
   ]
  },
  {
   "cell_type": "markdown",
   "metadata": {},
   "source": [
    "# Construct a script for distributed training \n",
    "Here is the full code for the network model:"
   ]
  },
  {
   "cell_type": "code",
   "execution_count": 3,
   "metadata": {
    "scrolled": true
   },
   "outputs": [
    {
     "name": "stdout",
     "output_type": "stream",
     "text": [
      "import os\n",
      "import tensorflow as tf\n",
      "from tensorflow.python.estimator.model_fn import ModeKeys as Modes\n",
      "\n",
      "INPUT_TENSOR_NAME = 'inputs'\n",
      "SIGNATURE_NAME = 'predictions'\n",
      "\n",
      "LEARNING_RATE = 0.001\n",
      "\n",
      "\n",
      "def model_fn(features, labels, mode, params):\n",
      "    # Input Layer\n",
      "    input_layer = tf.reshape(features[INPUT_TENSOR_NAME], [-1, 28, 28, 1])\n",
      "\n",
      "    # Convolutional Layer #1\n",
      "    conv1 = tf.layers.conv2d(\n",
      "        inputs=input_layer,\n",
      "        filters=32,\n",
      "        kernel_size=[5, 5],\n",
      "        padding='same',\n",
      "        activation=tf.nn.relu)\n",
      "\n",
      "    # Pooling Layer #1\n",
      "    pool1 = tf.layers.max_pooling2d(inputs=conv1, pool_size=[2, 2], strides=2)\n",
      "\n",
      "    # Convolutional Layer #2 and Pooling Layer #2\n",
      "    conv2 = tf.layers.conv2d(\n",
      "        inputs=pool1,\n",
      "        filters=64,\n",
      "        kernel_size=[5, 5],\n",
      "        padding='same',\n",
      "        activation=tf.nn.relu)\n",
      "    pool2 = tf.layers.max_pooling2d(inputs=conv2, pool_size=[2, 2], strides=2)\n",
      "\n",
      "    # Dense Layer\n",
      "    pool2_flat = tf.reshape(pool2, [-1, 7 * 7 * 64])\n",
      "    dense = tf.layers.dense(inputs=pool2_flat, units=1024, activation=tf.nn.relu)\n",
      "    dropout = tf.layers.dropout(\n",
      "        inputs=dense, rate=0.4, training=(mode == Modes.TRAIN))\n",
      "\n",
      "    # Logits Layer\n",
      "    logits = tf.layers.dense(inputs=dropout, units=31)\n",
      "\n",
      "    # Define operations\n",
      "    if mode in (Modes.PREDICT, Modes.EVAL):\n",
      "        predicted_indices = tf.argmax(input=logits, axis=1)\n",
      "        probabilities = tf.nn.softmax(logits, name='softmax_tensor')\n",
      "\n",
      "    if mode in (Modes.TRAIN, Modes.EVAL):\n",
      "        global_step = tf.train.get_or_create_global_step()\n",
      "        label_indices = tf.cast(labels, tf.int32)\n",
      "        loss = tf.losses.softmax_cross_entropy(\n",
      "            onehot_labels=tf.one_hot(label_indices, depth=31), logits=logits)\n",
      "        tf.summary.scalar('OptimizeLoss', loss)\n",
      "\n",
      "    if mode == Modes.PREDICT:\n",
      "        predictions = {\n",
      "            'classes': predicted_indices,\n",
      "            'probabilities': probabilities\n",
      "        }\n",
      "        export_outputs = {\n",
      "            SIGNATURE_NAME: tf.estimator.export.PredictOutput(predictions)\n",
      "        }\n",
      "        return tf.estimator.EstimatorSpec(\n",
      "            mode, predictions=predictions, export_outputs=export_outputs)\n",
      "\n",
      "    if mode == Modes.TRAIN:\n",
      "        optimizer = tf.train.AdamOptimizer(learning_rate=0.001)\n",
      "        train_op = optimizer.minimize(loss, global_step=global_step)\n",
      "        return tf.estimator.EstimatorSpec(mode, loss=loss, train_op=train_op)\n",
      "\n",
      "    if mode == Modes.EVAL:\n",
      "        eval_metric_ops = {\n",
      "            'accuracy': tf.metrics.accuracy(label_indices, predicted_indices)\n",
      "        }\n",
      "        return tf.estimator.EstimatorSpec(\n",
      "            mode, loss=loss, eval_metric_ops=eval_metric_ops)\n",
      "\n",
      "\n",
      "def serving_input_fn(params):\n",
      "    inputs = {INPUT_TENSOR_NAME: tf.placeholder(tf.float32, [None, 784* 1])}\n",
      "    return tf.estimator.export.ServingInputReceiver(inputs, inputs)\n",
      "\n",
      "\n",
      "def read_and_decode(filename_queue):\n",
      "    reader = tf.TFRecordReader()\n",
      "    _, serialized_example = reader.read(filename_queue)\n",
      "\n",
      "    features = tf.parse_single_example(\n",
      "        serialized_example,\n",
      "        features={\n",
      "            'image_raw': tf.FixedLenFeature([], tf.string),\n",
      "            'label': tf.FixedLenFeature([], tf.int64),\n",
      "        })\n",
      "\n",
      "    image = tf.decode_raw(features['image_raw'], tf.uint8)\n",
      "    image.set_shape([784* 1])\n",
      "    image = tf.cast(image, tf.float32) * (1. / 255)\n",
      "    label = tf.cast(features['label'], tf.int32)\n",
      "\n",
      "    return image, label\n",
      "\n",
      "\n",
      "def train_input_fn(training_dir, params):\n",
      "    return _input_fn(training_dir, 'train.tfrecords', batch_size=100)\n",
      "\n",
      "\n",
      "def eval_input_fn(training_dir, params):\n",
      "    return _input_fn(training_dir, 'test.tfrecords', batch_size=100)\n",
      "\n",
      "\n",
      "def _input_fn(training_dir, training_filename, batch_size=100):\n",
      "    test_file = os.path.join(training_dir, training_filename)\n",
      "    filename_queue = tf.train.string_input_producer([test_file])\n",
      "\n",
      "    image, label = read_and_decode(filename_queue)\n",
      "    images, labels = tf.train.batch(\n",
      "        [image, label], batch_size=batch_size,\n",
      "        capacity=1000 + 3 * batch_size)\n",
      "\n",
      "    return {INPUT_TENSOR_NAME: images}, labels\n",
      "\n",
      "\n",
      "def neo_preprocess(payload, content_type):\n",
      "    import logging\n",
      "    import numpy as np\n",
      "    import io\n",
      "\n",
      "    logging.info('Invoking user-defined pre-processing function')\n",
      "\n",
      "    if content_type != 'application/x-image' and content_type != 'application/vnd+python.numpy+binary':\n",
      "        raise RuntimeError('Content type must be application/x-image or application/vnd+python.numpy+binary')\n",
      "\n",
      "    f = io.BytesIO(payload)\n",
      "    image = np.load(f) * 255\n",
      "\n",
      "    return image\n",
      "\n",
      "\n",
      "### NOTE: this function cannot use MXNet\n",
      "def neo_postprocess(result):\n",
      "    import logging\n",
      "    import numpy as np\n",
      "    import json\n",
      "\n",
      "    logging.info('Invoking user-defined post-processing function')\n",
      "\n",
      "    # Softmax (assumes batch size 1)\n",
      "    result = np.squeeze(result)\n",
      "    result_exp = np.exp(result - np.max(result))\n",
      "    result = result_exp / np.sum(result_exp)\n",
      "\n",
      "    response_body = json.dumps(result.tolist())\n",
      "    content_type = 'application/json'\n",
      "\n",
      "    return response_body, content_type"
     ]
    }
   ],
   "source": [
    "!cat 'deepgauge.py'"
   ]
  },
  {
   "cell_type": "markdown",
   "metadata": {},
   "source": [
    "\n",
    "At the end of the training script, there are two additional functions, to be used with Neo Deep Learning Runtime:\n",
    "* `neo_preprocess(payload, content_type)`: Function that takes in the payload and Content-Type of each incoming request and returns a NumPy array\n",
    "* `neo_postprocess(result)`: Function that takes the prediction results produced by Deep Learining Runtime and returns the response body"
   ]
  },
  {
   "cell_type": "markdown",
   "metadata": {},
   "source": [
    "## Create a training job using the sagemaker.TensorFlow estimator"
   ]
  },
  {
   "cell_type": "code",
   "execution_count": 4,
   "metadata": {
    "scrolled": true
   },
   "outputs": [
    {
     "name": "stderr",
     "output_type": "stream",
     "text": [
      "tensorflow py2 container will be deprecated soon.\n"
     ]
    },
    {
     "name": "stdout",
     "output_type": "stream",
     "text": [
      "2019-08-30 19:39:56 Starting - Starting the training job...\n",
      "2019-08-30 19:39:58 Starting - Launching requested ML instances...\n",
      "2019-08-30 19:40:55 Starting - Preparing the instances for training......\n",
      "2019-08-30 19:41:54 Downloading - Downloading input data...\n",
      "2019-08-30 19:42:17 Training - Downloading the training image...\n",
      "2019-08-30 19:42:41 Training - Training image download completed. Training in progress.\n",
      "\u001b[31m2019-08-30 19:42:41,770 INFO - root - running container entrypoint\u001b[0m\n",
      "\u001b[31m2019-08-30 19:42:41,770 INFO - root - starting train task\u001b[0m\n",
      "\u001b[31m2019-08-30 19:42:41,792 INFO - container_support.training - Training starting\u001b[0m\n",
      "\u001b[31mDownloading s3://sagemaker-us-east-2-185004506247/sagemaker-tensorflow-2019-08-30-19-39-55-954/source/sourcedir.tar.gz to /tmp/script.tar.gz\u001b[0m\n",
      "\u001b[31m2019-08-30 19:42:44,126 INFO - tf_container - ----------------------TF_CONFIG--------------------------\u001b[0m\n",
      "\u001b[31m2019-08-30 19:42:44,126 INFO - tf_container - {\"environment\": \"cloud\", \"cluster\": {\"master\": [\"algo-1:2222\"]}, \"task\": {\"index\": 0, \"type\": \"master\"}}\u001b[0m\n",
      "\u001b[31m2019-08-30 19:42:44,126 INFO - tf_container - ---------------------------------------------------------\u001b[0m\n",
      "\u001b[31m2019-08-30 19:42:44,126 INFO - tf_container - creating RunConfig:\u001b[0m\n",
      "\u001b[31m2019-08-30 19:42:44,126 INFO - tf_container - {'save_checkpoints_secs': 300}\u001b[0m\n",
      "\u001b[31m2019-08-30 19:42:44,126 INFO - tensorflow - TF_CONFIG environment variable: {u'environment': u'cloud', u'cluster': {u'master': [u'algo-1:2222']}, u'task': {u'index': 0, u'type': u'master'}}\u001b[0m\n",
      "\u001b[31m2019-08-30 19:42:44,127 INFO - tf_container - creating an estimator from the user-provided model_fn\u001b[0m\n",
      "\u001b[31m2019-08-30 19:42:44,127 INFO - tensorflow - Using config: {'_save_checkpoints_secs': 300, '_keep_checkpoint_max': 5, '_task_type': u'master', '_cluster_spec': <tensorflow.python.training.server_lib.ClusterSpec object at 0x7f787f9e7f10>, '_keep_checkpoint_every_n_hours': 10000, '_service': None, '_num_ps_replicas': 0, '_tf_random_seed': None, '_device_fn': None, '_num_worker_replicas': 1, '_task_id': 0, '_log_step_count_steps': 100, '_evaluation_master': '', '_eval_distribute': None, '_train_distribute': None, '_session_config': device_filters: \"/job:ps\"\u001b[0m\n",
      "\u001b[31mdevice_filters: \"/job:master\"\u001b[0m\n",
      "\u001b[31mallow_soft_placement: true\u001b[0m\n",
      "\u001b[31mgraph_options {\n",
      "  rewrite_options {\n",
      "    meta_optimizer_iterations: ONE\n",
      "  }\u001b[0m\n",
      "\u001b[31m}\u001b[0m\n",
      "\u001b[31m, '_global_id_in_cluster': 0, '_is_chief': True, '_protocol': None, '_save_checkpoints_steps': None, '_experimental_distribute': None, '_save_summary_steps': 100, '_model_dir': u's3://sagemaker-us-east-2-185004506247/sagemaker-tensorflow-2019-08-30-19-39-55-954/checkpoints', '_master': ''}\u001b[0m\n",
      "\u001b[31m2019-08-30 19:42:44,128 INFO - tensorflow - Skip starting Tensorflow server as there is only one node in the cluster.\u001b[0m\n",
      "\u001b[31m2019-08-30 19:42:44.172362: E tensorflow/core/platform/s3/aws_logging.cc:60] No response body. Response code: 404\u001b[0m\n",
      "\u001b[31m2019-08-30 19:42:44.172888: W tensorflow/core/platform/s3/aws_logging.cc:57] If the signature check failed. This could be because of a time skew. Attempting to adjust the signer.\u001b[0m\n",
      "\u001b[31m2019-08-30 19:42:44,308 WARNING - tensorflow - From /usr/local/lib/python2.7/dist-packages/tensorflow/python/training/input.py:187: __init__ (from tensorflow.python.training.queue_runner_impl) is deprecated and will be removed in a future version.\u001b[0m\n",
      "\u001b[31mInstructions for updating:\u001b[0m\n",
      "\u001b[31mTo construct input pipelines, use the `tf.data` module.\u001b[0m\n",
      "\u001b[31m2019-08-30 19:42:44,310 WARNING - tensorflow - From /usr/local/lib/python2.7/dist-packages/tensorflow/python/training/input.py:187: add_queue_runner (from tensorflow.python.training.queue_runner_impl) is deprecated and will be removed in a future version.\u001b[0m\n",
      "\u001b[31mInstructions for updating:\u001b[0m\n",
      "\u001b[31mTo construct input pipelines, use the `tf.data` module.\u001b[0m\n",
      "\u001b[31m2019-08-30 19:42:44,331 INFO - tensorflow - Calling model_fn.\u001b[0m\n",
      "\u001b[31m2019-08-30 19:42:44,644 INFO - tensorflow - Done calling model_fn.\u001b[0m\n",
      "\u001b[31m2019-08-30 19:42:44,645 INFO - tensorflow - Create CheckpointSaverHook.\u001b[0m\n",
      "\u001b[31m2019-08-30 19:42:44.655679: E tensorflow/core/platform/s3/aws_logging.cc:60] No response body. Response code: 404\u001b[0m\n",
      "\u001b[31m2019-08-30 19:42:44.655715: W tensorflow/core/platform/s3/aws_logging.cc:57] If the signature check failed. This could be because of a time skew. Attempting to adjust the signer.\u001b[0m\n",
      "\u001b[31m2019-08-30 19:42:44.686763: E tensorflow/core/platform/s3/aws_logging.cc:60] No response body. Response code: 404\u001b[0m\n",
      "\u001b[31m2019-08-30 19:42:44.686800: W tensorflow/core/platform/s3/aws_logging.cc:57] If the signature check failed. This could be because of a time skew. Attempting to adjust the signer.\u001b[0m\n",
      "\u001b[31m2019-08-30 19:42:44.704555: E tensorflow/core/platform/s3/aws_logging.cc:60] No response body. Response code: 404\u001b[0m\n",
      "\u001b[31m2019-08-30 19:42:44.704587: W tensorflow/core/platform/s3/aws_logging.cc:57] If the signature check failed. This could be because of a time skew. Attempting to adjust the signer.\u001b[0m\n",
      "\u001b[31m2019-08-30 19:42:45,015 INFO - tensorflow - Graph was finalized.\u001b[0m\n",
      "\u001b[31m2019-08-30 19:42:46.663768: E tensorflow/core/platform/s3/aws_logging.cc:60] No response body. Response code: 404\u001b[0m\n",
      "\u001b[31m2019-08-30 19:42:46.663855: W tensorflow/core/platform/s3/aws_logging.cc:57] If the signature check failed. This could be because of a time skew. Attempting to adjust the signer.\u001b[0m\n",
      "\u001b[31m2019-08-30 19:42:46,979 INFO - tensorflow - Running local_init_op.\u001b[0m\n",
      "\u001b[31m2019-08-30 19:42:46,984 INFO - tensorflow - Done running local_init_op.\u001b[0m\n",
      "\u001b[31m2019-08-30 19:42:47,007 WARNING - tensorflow - From /usr/local/lib/python2.7/dist-packages/tensorflow/python/training/monitored_session.py:804: start_queue_runners (from tensorflow.python.training.queue_runner_impl) is deprecated and will be removed in a future version.\u001b[0m\n",
      "\u001b[31mInstructions for updating:\u001b[0m\n",
      "\u001b[31mTo construct input pipelines, use the `tf.data` module.\u001b[0m\n",
      "\u001b[31m2019-08-30 19:42:47.068848: E tensorflow/core/platform/s3/aws_logging.cc:60] No response body. Response code: 404\u001b[0m\n",
      "\u001b[31m2019-08-30 19:42:47.068909: W tensorflow/core/platform/s3/aws_logging.cc:57] If the signature check failed. This could be because of a time skew. Attempting to adjust the signer.\u001b[0m\n",
      "\u001b[31m2019-08-30 19:42:47,534 INFO - tensorflow - Saving checkpoints for 0 into s3://sagemaker-us-east-2-185004506247/sagemaker-tensorflow-2019-08-30-19-39-55-954/checkpoints/model.ckpt.\u001b[0m\n",
      "\u001b[31m2019-08-30 19:42:49.566786: E tensorflow/core/platform/s3/aws_logging.cc:60] No response body. Response code: 404\u001b[0m\n",
      "\u001b[31m2019-08-30 19:42:49.566829: W tensorflow/core/platform/s3/aws_logging.cc:57] If the signature check failed. This could be because of a time skew. Attempting to adjust the signer.\u001b[0m\n",
      "\u001b[31m2019-08-30 19:42:59,168 INFO - tensorflow - loss = 3.4322884, step = 0\u001b[0m\n",
      "\u001b[31m2019-08-30 19:43:00,490 INFO - tensorflow - global_step/sec: 75.5823\u001b[0m\n",
      "\u001b[31m2019-08-30 19:43:00,492 INFO - tensorflow - loss = 1.2038097, step = 100 (1.324 sec)\u001b[0m\n",
      "\u001b[31m2019-08-30 19:43:01,907 INFO - tensorflow - global_step/sec: 70.5786\u001b[0m\n",
      "\u001b[31m2019-08-30 19:43:01,909 INFO - tensorflow - loss = 0.5218241, step = 200 (1.417 sec)\u001b[0m\n",
      "\u001b[31m2019-08-30 19:43:03,331 INFO - tensorflow - global_step/sec: 70.2469\u001b[0m\n",
      "\u001b[31m2019-08-30 19:43:03,332 INFO - tensorflow - loss = 0.32741553, step = 300 (1.423 sec)\u001b[0m\n",
      "\u001b[31m2019-08-30 19:43:04,739 INFO - tensorflow - global_step/sec: 71.0227\u001b[0m\n",
      "\u001b[31m2019-08-30 19:43:04,740 INFO - tensorflow - loss = 0.21642505, step = 400 (1.408 sec)\u001b[0m\n",
      "\u001b[31m2019-08-30 19:43:06,152 INFO - tensorflow - global_step/sec: 70.7572\u001b[0m\n",
      "\u001b[31m2019-08-30 19:43:06,153 INFO - tensorflow - loss = 0.041964736, step = 500 (1.413 sec)\u001b[0m\n",
      "\u001b[31m2019-08-30 19:43:07,596 INFO - tensorflow - global_step/sec: 69.2808\u001b[0m\n",
      "\u001b[31m2019-08-30 19:43:07,597 INFO - tensorflow - loss = 0.07840557, step = 600 (1.443 sec)\u001b[0m\n",
      "\u001b[31m2019-08-30 19:43:09,002 INFO - tensorflow - global_step/sec: 71.0997\u001b[0m\n",
      "\u001b[31m2019-08-30 19:43:09,003 INFO - tensorflow - loss = 0.09289575, step = 700 (1.407 sec)\u001b[0m\n",
      "\u001b[31m2019-08-30 19:43:10,410 INFO - tensorflow - global_step/sec: 71.0279\u001b[0m\n",
      "\u001b[31m2019-08-30 19:43:10,411 INFO - tensorflow - loss = 0.10285733, step = 800 (1.408 sec)\u001b[0m\n",
      "\u001b[31m2019-08-30 19:43:11,837 INFO - tensorflow - global_step/sec: 70.0929\u001b[0m\n",
      "\u001b[31m2019-08-30 19:43:11,838 INFO - tensorflow - loss = 0.039669283, step = 900 (1.427 sec)\u001b[0m\n",
      "\u001b[31m2019-08-30 19:43:13,269 INFO - tensorflow - global_step/sec: 69.8292\u001b[0m\n",
      "\u001b[31m2019-08-30 19:43:13,270 INFO - tensorflow - loss = 0.025164075, step = 1000 (1.432 sec)\u001b[0m\n",
      "\u001b[31m2019-08-30 19:43:14,681 INFO - tensorflow - global_step/sec: 70.8147\u001b[0m\n",
      "\u001b[31m2019-08-30 19:43:14,682 INFO - tensorflow - loss = 0.018024063, step = 1100 (1.412 sec)\u001b[0m\n",
      "\u001b[31m2019-08-30 19:43:16,096 INFO - tensorflow - global_step/sec: 70.6613\u001b[0m\n",
      "\u001b[31m2019-08-30 19:43:16,097 INFO - tensorflow - loss = 0.05158297, step = 1200 (1.415 sec)\u001b[0m\n",
      "\u001b[31m2019-08-30 19:43:17,530 INFO - tensorflow - global_step/sec: 69.7212\u001b[0m\n",
      "\u001b[31m2019-08-30 19:43:17,531 INFO - tensorflow - loss = 0.016237935, step = 1300 (1.434 sec)\u001b[0m\n",
      "\u001b[31m2019-08-30 19:43:18,951 INFO - tensorflow - global_step/sec: 70.3946\u001b[0m\n",
      "\u001b[31m2019-08-30 19:43:18,952 INFO - tensorflow - loss = 0.018853528, step = 1400 (1.420 sec)\u001b[0m\n",
      "\u001b[31m2019-08-30 19:43:20,355 INFO - tensorflow - global_step/sec: 71.1917\u001b[0m\n",
      "\u001b[31m2019-08-30 19:43:20,357 INFO - tensorflow - loss = 0.0065122717, step = 1500 (1.405 sec)\u001b[0m\n",
      "\u001b[31m2019-08-30 19:43:21,771 INFO - tensorflow - global_step/sec: 70.6543\u001b[0m\n",
      "\u001b[31m2019-08-30 19:43:21,772 INFO - tensorflow - loss = 0.008938652, step = 1600 (1.415 sec)\u001b[0m\n",
      "\u001b[31m2019-08-30 19:43:23,193 INFO - tensorflow - global_step/sec: 70.3019\u001b[0m\n",
      "\u001b[31m2019-08-30 19:43:23,194 INFO - tensorflow - loss = 0.0044931904, step = 1700 (1.422 sec)\u001b[0m\n",
      "\u001b[31m2019-08-30 19:43:24,599 INFO - tensorflow - global_step/sec: 71.1365\u001b[0m\n",
      "\u001b[31m2019-08-30 19:43:24,600 INFO - tensorflow - loss = 0.0062431716, step = 1800 (1.406 sec)\u001b[0m\n",
      "\u001b[31m2019-08-30 19:43:26,001 INFO - tensorflow - global_step/sec: 71.3205\u001b[0m\n",
      "\u001b[31m2019-08-30 19:43:26,002 INFO - tensorflow - loss = 0.0034432646, step = 1900 (1.402 sec)\u001b[0m\n",
      "\u001b[31m2019-08-30 19:43:27,427 INFO - tensorflow - global_step/sec: 70.1495\u001b[0m\n",
      "\u001b[31m2019-08-30 19:43:27,428 INFO - tensorflow - loss = 0.0066873264, step = 2000 (1.426 sec)\u001b[0m\n",
      "\u001b[31m2019-08-30 19:43:28,854 INFO - tensorflow - global_step/sec: 70.0844\u001b[0m\n",
      "\u001b[31m2019-08-30 19:43:28,854 INFO - tensorflow - loss = 0.0017674525, step = 2100 (1.427 sec)\u001b[0m\n",
      "\u001b[31m2019-08-30 19:43:30,260 INFO - tensorflow - global_step/sec: 71.0751\u001b[0m\n",
      "\u001b[31m2019-08-30 19:43:30,262 INFO - tensorflow - loss = 0.008180653, step = 2200 (1.407 sec)\u001b[0m\n",
      "\u001b[31m2019-08-30 19:43:31,675 INFO - tensorflow - global_step/sec: 70.7095\u001b[0m\n",
      "\u001b[31m2019-08-30 19:43:31,676 INFO - tensorflow - loss = 0.0008589338, step = 2300 (1.414 sec)\u001b[0m\n",
      "\u001b[31m2019-08-30 19:43:33,100 INFO - tensorflow - global_step/sec: 70.1658\u001b[0m\n",
      "\u001b[31m2019-08-30 19:43:33,101 INFO - tensorflow - loss = 0.008444894, step = 2400 (1.425 sec)\u001b[0m\n",
      "\u001b[31m2019-08-30 19:43:34,518 INFO - tensorflow - global_step/sec: 70.5415\u001b[0m\n",
      "\u001b[31m2019-08-30 19:43:34,519 INFO - tensorflow - loss = 0.005080772, step = 2500 (1.417 sec)\u001b[0m\n",
      "\u001b[31m2019-08-30 19:43:35,927 INFO - tensorflow - global_step/sec: 70.9609\u001b[0m\n",
      "\u001b[31m2019-08-30 19:43:35,928 INFO - tensorflow - loss = 0.0044940207, step = 2600 (1.409 sec)\u001b[0m\n",
      "\u001b[31m2019-08-30 19:43:37,335 INFO - tensorflow - global_step/sec: 70.9998\u001b[0m\n",
      "\u001b[31m2019-08-30 19:43:37,336 INFO - tensorflow - loss = 0.0017383266, step = 2700 (1.408 sec)\u001b[0m\n",
      "\u001b[31m2019-08-30 19:43:38,760 INFO - tensorflow - global_step/sec: 70.2061\u001b[0m\n",
      "\u001b[31m2019-08-30 19:43:38,761 INFO - tensorflow - loss = 0.0027392572, step = 2800 (1.424 sec)\u001b[0m\n",
      "\u001b[31m2019-08-30 19:43:40,165 INFO - tensorflow - global_step/sec: 71.1282\u001b[0m\n",
      "\u001b[31m2019-08-30 19:43:40,166 INFO - tensorflow - loss = 0.012355017, step = 2900 (1.406 sec)\u001b[0m\n",
      "\u001b[31m2019-08-30 19:43:41,572 INFO - tensorflow - global_step/sec: 71.0901\u001b[0m\n",
      "\u001b[31m2019-08-30 19:43:41,573 INFO - tensorflow - loss = 0.0013968624, step = 3000 (1.407 sec)\u001b[0m\n",
      "\u001b[31m2019-08-30 19:43:42,991 INFO - tensorflow - global_step/sec: 70.485\u001b[0m\n",
      "\u001b[31m2019-08-30 19:43:42,992 INFO - tensorflow - loss = 0.0013526833, step = 3100 (1.419 sec)\u001b[0m\n",
      "\u001b[31m2019-08-30 19:43:44,402 INFO - tensorflow - global_step/sec: 70.8794\u001b[0m\n",
      "\u001b[31m2019-08-30 19:43:44,403 INFO - tensorflow - loss = 0.00175539, step = 3200 (1.411 sec)\u001b[0m\n",
      "\u001b[31m2019-08-30 19:43:45,827 INFO - tensorflow - global_step/sec: 70.1757\u001b[0m\n",
      "\u001b[31m2019-08-30 19:43:45,828 INFO - tensorflow - loss = 0.00196272, step = 3300 (1.425 sec)\u001b[0m\n",
      "\u001b[31m2019-08-30 19:43:47,243 INFO - tensorflow - global_step/sec: 70.6297\u001b[0m\n",
      "\u001b[31m2019-08-30 19:43:47,244 INFO - tensorflow - loss = 0.0006661886, step = 3400 (1.416 sec)\u001b[0m\n",
      "\u001b[31m2019-08-30 19:43:48,673 INFO - tensorflow - global_step/sec: 69.8884\u001b[0m\n",
      "\u001b[31m2019-08-30 19:43:48,675 INFO - tensorflow - loss = 0.0003433552, step = 3500 (1.431 sec)\u001b[0m\n",
      "\u001b[31m2019-08-30 19:43:50,085 INFO - tensorflow - global_step/sec: 70.8379\u001b[0m\n",
      "\u001b[31m2019-08-30 19:43:50,086 INFO - tensorflow - loss = 0.0011760836, step = 3600 (1.412 sec)\u001b[0m\n",
      "\u001b[31m2019-08-30 19:43:51,501 INFO - tensorflow - global_step/sec: 70.6221\u001b[0m\n",
      "\u001b[31m2019-08-30 19:43:51,502 INFO - tensorflow - loss = 0.00017205832, step = 3700 (1.416 sec)\u001b[0m\n",
      "\u001b[31m2019-08-30 19:43:52,929 INFO - tensorflow - global_step/sec: 70.0222\u001b[0m\n",
      "\u001b[31m2019-08-30 19:43:52,930 INFO - tensorflow - loss = 5.984292e-05, step = 3800 (1.428 sec)\u001b[0m\n",
      "\u001b[31m2019-08-30 19:43:54,354 INFO - tensorflow - global_step/sec: 70.1743\u001b[0m\n",
      "\u001b[31m2019-08-30 19:43:54,355 INFO - tensorflow - loss = 0.0015806035, step = 3900 (1.425 sec)\u001b[0m\n",
      "\u001b[31m2019-08-30 19:43:55,764 INFO - tensorflow - global_step/sec: 70.9132\u001b[0m\n",
      "\u001b[31m2019-08-30 19:43:55,766 INFO - tensorflow - loss = 0.0059920168, step = 4000 (1.410 sec)\u001b[0m\n",
      "\u001b[31m2019-08-30 19:43:57,177 INFO - tensorflow - global_step/sec: 70.7733\u001b[0m\n",
      "\u001b[31m2019-08-30 19:43:57,178 INFO - tensorflow - loss = 0.010756216, step = 4100 (1.413 sec)\u001b[0m\n",
      "\u001b[31m2019-08-30 19:43:58,604 INFO - tensorflow - global_step/sec: 70.0799\u001b[0m\n",
      "\u001b[31m2019-08-30 19:43:58,605 INFO - tensorflow - loss = 0.001251926, step = 4200 (1.427 sec)\u001b[0m\n",
      "\u001b[31m2019-08-30 19:44:00,026 INFO - tensorflow - global_step/sec: 70.3163\u001b[0m\n",
      "\u001b[31m2019-08-30 19:44:00,028 INFO - tensorflow - loss = 0.00063723355, step = 4300 (1.422 sec)\u001b[0m\n",
      "\u001b[31m2019-08-30 19:44:01,436 INFO - tensorflow - global_step/sec: 70.9402\u001b[0m\n",
      "\u001b[31m2019-08-30 19:44:01,437 INFO - tensorflow - loss = 0.00015959014, step = 4400 (1.410 sec)\u001b[0m\n",
      "\u001b[31m2019-08-30 19:44:02,872 INFO - tensorflow - global_step/sec: 69.6252\u001b[0m\n",
      "\u001b[31m2019-08-30 19:44:02,873 INFO - tensorflow - loss = 0.00043812554, step = 4500 (1.436 sec)\u001b[0m\n",
      "\u001b[31m2019-08-30 19:44:04,291 INFO - tensorflow - global_step/sec: 70.5133\u001b[0m\n",
      "\u001b[31m2019-08-30 19:44:04,292 INFO - tensorflow - loss = 8.1832724e-05, step = 4600 (1.418 sec)\u001b[0m\n",
      "\u001b[31m2019-08-30 19:44:05,694 INFO - tensorflow - global_step/sec: 71.2679\u001b[0m\n",
      "\u001b[31m2019-08-30 19:44:05,695 INFO - tensorflow - loss = 0.0001969436, step = 4700 (1.403 sec)\u001b[0m\n",
      "\u001b[31m2019-08-30 19:44:07,104 INFO - tensorflow - global_step/sec: 70.9305\u001b[0m\n",
      "\u001b[31m2019-08-30 19:44:07,105 INFO - tensorflow - loss = 0.00012215601, step = 4800 (1.410 sec)\u001b[0m\n",
      "\u001b[31m2019-08-30 19:44:08,531 INFO - tensorflow - global_step/sec: 70.0387\u001b[0m\n",
      "\u001b[31m2019-08-30 19:44:08,532 INFO - tensorflow - loss = 0.00084073405, step = 4900 (1.428 sec)\u001b[0m\n",
      "\u001b[31m2019-08-30 19:44:09,937 INFO - tensorflow - Saving checkpoints for 5000 into s3://sagemaker-us-east-2-185004506247/sagemaker-tensorflow-2019-08-30-19-39-55-954/checkpoints/model.ckpt.\u001b[0m\n",
      "\n",
      "2019-08-30 19:44:23 Uploading - Uploading generated training model\u001b[31m2019-08-30 19:44:12.154535: E tensorflow/core/platform/s3/aws_logging.cc:60] No response body. Response code: 404\u001b[0m\n",
      "\u001b[31m2019-08-30 19:44:12.154580: W tensorflow/core/platform/s3/aws_logging.cc:57] If the signature check failed. This could be because of a time skew. Attempting to adjust the signer.\u001b[0m\n",
      "\u001b[31m2019-08-30 19:44:12,515 INFO - tensorflow - Calling model_fn.\u001b[0m\n",
      "\u001b[31m2019-08-30 19:44:12,722 INFO - tensorflow - Done calling model_fn.\u001b[0m\n",
      "\u001b[31m2019-08-30 19:44:12,745 INFO - tensorflow - Starting evaluation at 2019-08-30-19:44:12\u001b[0m\n",
      "\u001b[31m2019-08-30 19:44:12,825 INFO - tensorflow - Graph was finalized.\u001b[0m\n",
      "\u001b[31m2019-08-30 19:44:12,882 INFO - tensorflow - Restoring parameters from s3://sagemaker-us-east-2-185004506247/sagemaker-tensorflow-2019-08-30-19-39-55-954/checkpoints/model.ckpt-5000\u001b[0m\n",
      "\u001b[31m2019-08-30 19:44:13,201 INFO - tensorflow - Running local_init_op.\u001b[0m\n",
      "\u001b[31m2019-08-30 19:44:13,209 INFO - tensorflow - Done running local_init_op.\u001b[0m\n",
      "\u001b[31m2019-08-30 19:44:13,401 INFO - tensorflow - Evaluation [10/100]\u001b[0m\n",
      "\u001b[31m2019-08-30 19:44:13,543 INFO - tensorflow - Evaluation [20/100]\u001b[0m\n",
      "\u001b[31m2019-08-30 19:44:13,683 INFO - tensorflow - Evaluation [30/100]\u001b[0m\n",
      "\u001b[31m2019-08-30 19:44:13,821 INFO - tensorflow - Evaluation [40/100]\u001b[0m\n",
      "\u001b[31m2019-08-30 19:44:13,960 INFO - tensorflow - Evaluation [50/100]\u001b[0m\n",
      "\u001b[31m2019-08-30 19:44:14,098 INFO - tensorflow - Evaluation [60/100]\u001b[0m\n",
      "\u001b[31m2019-08-30 19:44:14,237 INFO - tensorflow - Evaluation [70/100]\u001b[0m\n",
      "\u001b[31m2019-08-30 19:44:14,374 INFO - tensorflow - Evaluation [80/100]\u001b[0m\n",
      "\u001b[31m2019-08-30 19:44:14,513 INFO - tensorflow - Evaluation [90/100]\u001b[0m\n",
      "\u001b[31m2019-08-30 19:44:14,652 INFO - tensorflow - Evaluation [100/100]\u001b[0m\n",
      "\u001b[31m2019-08-30 19:44:14,682 INFO - tensorflow - Finished evaluation at 2019-08-30-19:44:14\u001b[0m\n",
      "\u001b[31m2019-08-30 19:44:14,683 INFO - tensorflow - Saving dict for global step 5000: accuracy = 0.9456, global_step = 5000, loss = 0.32910308\u001b[0m\n",
      "\u001b[31m2019-08-30 19:44:14.691885: E tensorflow/core/platform/s3/aws_logging.cc:60] No response body. Response code: 404\u001b[0m\n",
      "\u001b[31m2019-08-30 19:44:14.691926: W tensorflow/core/platform/s3/aws_logging.cc:57] If the signature check failed. This could be because of a time skew. Attempting to adjust the signer.\u001b[0m\n",
      "\u001b[31m2019-08-30 19:44:14.708367: E tensorflow/core/platform/s3/aws_logging.cc:60] No response body. Response code: 404\u001b[0m\n",
      "\u001b[31m2019-08-30 19:44:14.708402: W tensorflow/core/platform/s3/aws_logging.cc:57] If the signature check failed. This could be because of a time skew. Attempting to adjust the signer.\u001b[0m\n",
      "\u001b[31m2019-08-30 19:44:14.723211: E tensorflow/core/platform/s3/aws_logging.cc:60] No response body. Response code: 404\u001b[0m\n",
      "\u001b[31m2019-08-30 19:44:14.723245: W tensorflow/core/platform/s3/aws_logging.cc:57] If the signature check failed. This could be because of a time skew. Attempting to adjust the signer.\u001b[0m\n",
      "\u001b[31m2019-08-30 19:44:15,017 INFO - tensorflow - Saving 'checkpoint_path' summary for global step 5000: s3://sagemaker-us-east-2-185004506247/sagemaker-tensorflow-2019-08-30-19-39-55-954/checkpoints/model.ckpt-5000\u001b[0m\n",
      "\u001b[31m2019-08-30 19:44:15.136912: E tensorflow/core/platform/s3/aws_logging.cc:60] No response body. Response code: 404\u001b[0m\n",
      "\u001b[31m2019-08-30 19:44:15.136951: W tensorflow/core/platform/s3/aws_logging.cc:57] If the signature check failed. This could be because of a time skew. Attempting to adjust the signer.\u001b[0m\n",
      "\u001b[31m2019-08-30 19:44:15.161286: E tensorflow/core/platform/s3/aws_logging.cc:60] No response body. Response code: 404\u001b[0m\n",
      "\u001b[31m2019-08-30 19:44:15.161320: W tensorflow/core/platform/s3/aws_logging.cc:57] If the signature check failed. This could be because of a time skew. Attempting to adjust the signer.\u001b[0m\n",
      "\u001b[31m2019-08-30 19:44:15.173732: E tensorflow/core/platform/s3/aws_logging.cc:60] No response body. Response code: 404\u001b[0m\n",
      "\u001b[31m2019-08-30 19:44:15.173767: W tensorflow/core/platform/s3/aws_logging.cc:57] If the signature check failed. This could be because of a time skew. Attempting to adjust the signer.\u001b[0m\n",
      "\u001b[31m2019-08-30 19:44:15.194016: E tensorflow/core/platform/s3/aws_logging.cc:60] No response body. Response code: 404\u001b[0m\n",
      "\u001b[31m2019-08-30 19:44:15.194050: W tensorflow/core/platform/s3/aws_logging.cc:57] If the signature check failed. This could be because of a time skew. Attempting to adjust the signer.\u001b[0m\n",
      "\u001b[31m2019-08-30 19:44:15.213868: E tensorflow/core/platform/s3/aws_logging.cc:60] No response body. Response code: 404\u001b[0m\n",
      "\u001b[31m2019-08-30 19:44:15.213902: W tensorflow/core/platform/s3/aws_logging.cc:57] If the signature check failed. This could be because of a time skew. Attempting to adjust the signer.\u001b[0m\n",
      "\u001b[31m2019-08-30 19:44:15.228365: E tensorflow/core/platform/s3/aws_logging.cc:60] No response body. Response code: 404\u001b[0m\n",
      "\u001b[31m2019-08-30 19:44:15.228399: W tensorflow/core/platform/s3/aws_logging.cc:57] If the signature check failed. This could be because of a time skew. Attempting to adjust the signer.\u001b[0m\n",
      "\u001b[31m2019-08-30 19:44:15,285 INFO - tensorflow - Calling model_fn.\u001b[0m\n",
      "\u001b[31m2019-08-30 19:44:15,353 INFO - tensorflow - Done calling model_fn.\u001b[0m\n",
      "\u001b[31m2019-08-30 19:44:15,354 INFO - tensorflow - Signatures INCLUDED in export for Eval: None\u001b[0m\n",
      "\u001b[31m2019-08-30 19:44:15,354 INFO - tensorflow - Signatures INCLUDED in export for Classify: None\u001b[0m\n",
      "\u001b[31m2019-08-30 19:44:15,354 INFO - tensorflow - Signatures INCLUDED in export for Regress: None\u001b[0m\n",
      "\u001b[31m2019-08-30 19:44:15,354 INFO - tensorflow - Signatures INCLUDED in export for Predict: ['serving_default', 'predictions']\u001b[0m\n",
      "\u001b[31m2019-08-30 19:44:15,354 INFO - tensorflow - Signatures INCLUDED in export for Train: None\u001b[0m\n",
      "\u001b[31m2019-08-30 19:44:15,433 INFO - tensorflow - Restoring parameters from s3://sagemaker-us-east-2-185004506247/sagemaker-tensorflow-2019-08-30-19-39-55-954/checkpoints/model.ckpt-5000\u001b[0m\n",
      "\u001b[31m2019-08-30 19:44:15,778 WARNING - tensorflow - From /usr/local/lib/python2.7/dist-packages/tensorflow/python/estimator/estimator.py:1018: calling add_meta_graph_and_variables (from tensorflow.python.saved_model.builder_impl) with legacy_init_op is deprecated and will be removed in a future version.\u001b[0m\n",
      "\u001b[31mInstructions for updating:\u001b[0m\n",
      "\u001b[31mPass your op to the equivalent parameter main_op instead.\u001b[0m\n",
      "\u001b[31m2019-08-30 19:44:15,778 INFO - tensorflow - Assets added to graph.\u001b[0m\n",
      "\u001b[31m2019-08-30 19:44:15,778 INFO - tensorflow - No assets to write.\u001b[0m\n",
      "\u001b[31m2019-08-30 19:44:15.786652: E tensorflow/core/platform/s3/aws_logging.cc:60] No response body. Response code: 404\u001b[0m\n",
      "\u001b[31m2019-08-30 19:44:15.786695: W tensorflow/core/platform/s3/aws_logging.cc:57] If the signature check failed. This could be because of a time skew. Attempting to adjust the signer.\u001b[0m\n",
      "\u001b[31m2019-08-30 19:44:15.801540: E tensorflow/core/platform/s3/aws_logging.cc:60] No response body. Response code: 404\u001b[0m\n",
      "\u001b[31m2019-08-30 19:44:15.801579: W tensorflow/core/platform/s3/aws_logging.cc:57] If the signature check failed. This could be because of a time skew. Attempting to adjust the signer.\u001b[0m\n",
      "\u001b[31m2019-08-30 19:44:15.817409: E tensorflow/core/platform/s3/aws_logging.cc:60] No response body. Response code: 404\u001b[0m\n",
      "\u001b[31m2019-08-30 19:44:15.817448: W tensorflow/core/platform/s3/aws_logging.cc:57] If the signature check failed. This could be because of a time skew. Attempting to adjust the signer.\u001b[0m\n",
      "\u001b[31m2019-08-30 19:44:17.786975: E tensorflow/core/platform/s3/aws_logging.cc:60] No response body. Response code: 404\u001b[0m\n",
      "\u001b[31m2019-08-30 19:44:17.787026: W tensorflow/core/platform/s3/aws_logging.cc:57] If the signature check failed. This could be because of a time skew. Attempting to adjust the signer.\u001b[0m\n",
      "\u001b[31m2019-08-30 19:44:17,863 INFO - tensorflow - SavedModel written to: s3://sagemaker-us-east-2-185004506247/sagemaker-tensorflow-2019-08-30-19-39-55-954/checkpoints/export/Servo/temp-1567194255/saved_model.pb\u001b[0m\n",
      "\u001b[31m2019-08-30 19:44:17.869080: E tensorflow/core/platform/s3/aws_logging.cc:60] No response body. Response code: 404\u001b[0m\n",
      "\u001b[31m2019-08-30 19:44:17.869119: W tensorflow/core/platform/s3/aws_logging.cc:57] If the signature check failed. This could be because of a time skew. Attempting to adjust the signer.\u001b[0m\n",
      "\u001b[31m2019-08-30 19:44:18.333913: E tensorflow/core/platform/s3/aws_logging.cc:60] No response body. Response code: 404\u001b[0m\n",
      "\u001b[31m2019-08-30 19:44:18.333961: W tensorflow/core/platform/s3/aws_logging.cc:57] If the signature check failed. This could be because of a time skew. Attempting to adjust the signer.\u001b[0m\n",
      "\u001b[31m2019-08-30 19:44:18.352855: E tensorflow/core/platform/s3/aws_logging.cc:60] No response body. Response code: 404\u001b[0m\n",
      "\u001b[31m2019-08-30 19:44:18.352894: W tensorflow/core/platform/s3/aws_logging.cc:57] If the signature check failed. This could be because of a time skew. Attempting to adjust the signer.\u001b[0m\n",
      "\u001b[31m2019-08-30 19:44:18,485 INFO - tensorflow - Loss for final step: 7.681181e-05.\u001b[0m\n",
      "\u001b[31m2019-08-30 19:44:18,724 INFO - tf_container - Downloaded saved model at /opt/ml/model/export/Servo/1567194255\u001b[0m\n",
      "\n",
      "2019-08-30 19:44:28 Completed - Training job completed\n",
      "Training seconds: 154\n",
      "Billable seconds: 154\n"
     ]
    }
   ],
   "source": [
    "from sagemaker.tensorflow import TensorFlow\n",
    "deepgauge_estimator = TensorFlow(entry_point='deepgauge.py',\n",
    "                             role=role,\n",
    "                             framework_version='1.11.0',\n",
    "                             training_steps=5000, \n",
    "                             evaluation_steps=100,\n",
    "                             train_instance_count=1,\n",
    "                             train_instance_type='ml.p3.2xlarge')\n",
    "deepgauge_estimator.fit(inputs)"
   ]
  },
  {
   "cell_type": "markdown",
   "metadata": {},
   "source": [
    "The **```fit```** method will create a training job in two **ml.c4.xlarge** instances. The logs above will show the instances doing training, evaluation, and incrementing the number of **training steps**. \n",
    "\n",
    "In the end of the training, the training job will generate a saved model for TF serving."
   ]
  },
  {
   "cell_type": "markdown",
   "metadata": {},
   "source": [
    "# Deploy the trained model to prepare for predictions (the old way)\n",
    "\n",
    "The deploy() method creates an endpoint which serves prediction requests in real-time."
   ]
  },
  {
   "cell_type": "code",
   "execution_count": 5,
   "metadata": {},
   "outputs": [
    {
     "name": "stderr",
     "output_type": "stream",
     "text": [
      "The Python 2 tensorflow images will be soon deprecated and may not be supported for newer upcoming versions of the tensorflow images.\n",
      "Please set the argument \"py_version='py3'\" to use the Python 3 tensorflow image.\n"
     ]
    },
    {
     "name": "stdout",
     "output_type": "stream",
     "text": [
      "--------------------------------------------------------------------------------------!"
     ]
    }
   ],
   "source": [
    "deepgauge_predictor = deepgauge_estimator.deploy(initial_instance_count=1,\n",
    "                                         instance_type='ml.m4.xlarge')"
   ]
  },
  {
   "cell_type": "markdown",
   "metadata": {},
   "source": [
    "## Invoking the endpoint"
   ]
  },
  {
   "cell_type": "code",
   "execution_count": 6,
   "metadata": {},
   "outputs": [
    {
     "name": "stdout",
     "output_type": "stream",
     "text": [
      "========================================\n",
      "label is 27\n",
      "prediction is 27\n",
      "========================================\n",
      "label is 28\n",
      "prediction is 28\n",
      "========================================\n",
      "label is 8\n",
      "prediction is 8\n",
      "========================================\n",
      "label is 5\n",
      "prediction is 5\n",
      "========================================\n",
      "label is 12\n",
      "prediction is 12\n",
      "========================================\n",
      "label is 22\n",
      "prediction is 22\n",
      "========================================\n",
      "label is 1\n",
      "prediction is 1\n",
      "========================================\n",
      "label is 30\n",
      "prediction is 30\n",
      "========================================\n",
      "label is 21\n",
      "prediction is 21\n",
      "========================================\n",
      "label is 9\n",
      "prediction is 9\n",
      "========================================\n",
      "label is 25\n",
      "prediction is 25\n",
      "========================================\n",
      "label is 15\n",
      "prediction is 15\n",
      "========================================\n",
      "label is 5\n",
      "prediction is 5\n",
      "========================================\n",
      "label is 19\n",
      "prediction is 19\n",
      "========================================\n",
      "label is 13\n",
      "prediction is 13\n",
      "========================================\n",
      "label is 7\n",
      "prediction is 7\n",
      "========================================\n",
      "label is 30\n",
      "prediction is 30\n",
      "========================================\n",
      "label is 30\n",
      "prediction is 30\n",
      "========================================\n",
      "label is 12\n",
      "prediction is 11\n",
      "========================================\n",
      "label is 8\n",
      "prediction is 8\n",
      "========================================\n",
      "label is 11\n",
      "prediction is 11\n",
      "========================================\n",
      "label is 22\n",
      "prediction is 22\n",
      "========================================\n",
      "label is 4\n",
      "prediction is 5\n",
      "========================================\n",
      "label is 10\n",
      "prediction is 10\n",
      "========================================\n",
      "label is 23\n",
      "prediction is 23\n",
      "========================================\n",
      "label is 4\n",
      "prediction is 4\n",
      "========================================\n",
      "label is 25\n",
      "prediction is 25\n",
      "========================================\n",
      "label is 8\n",
      "prediction is 8\n",
      "========================================\n",
      "label is 21\n",
      "prediction is 21\n",
      "========================================\n",
      "label is 23\n",
      "prediction is 23\n",
      "========================================\n",
      "label is 27\n",
      "prediction is 27\n",
      "========================================\n",
      "label is 29\n",
      "prediction is 29\n"
     ]
    }
   ],
   "source": [
    "import numpy as np\n",
    "import tensorflow as tf\n",
    "import pickle\n",
    "\n",
    "with open('./data/test_dataset.pickle', 'rb') as handle:\n",
    "    test_dataset = pickle.load(handle)\n",
    "\n",
    "    \n",
    "# len(test_dataset['images'][0])\n",
    "for i in range(32):\n",
    "    data = ((test_dataset['images'][i])/255).reshape([28*28, ]).tolist()\n",
    "    tensor_proto = tf.make_tensor_proto(values=np.asarray(data), shape=[1, len(data)], dtype=tf.float32)\n",
    "    tensor_proto\n",
    "    predict_response = deepgauge_predictor.predict(tensor_proto)\n",
    "\n",
    "    print(\"========================================\")\n",
    "    label = test_dataset['labels'][i]\n",
    "    print(\"label is {}\".format(label))\n",
    "    prediction = predict_response['outputs']['classes']['int64_val'][0]\n",
    "    print(\"prediction is {}\".format(prediction))\n",
    "    # tensor_proto"
   ]
  },
  {
   "cell_type": "markdown",
   "metadata": {},
   "source": [
    "## Deleting the endpoint"
   ]
  },
  {
   "cell_type": "code",
   "execution_count": 7,
   "metadata": {},
   "outputs": [],
   "source": [
    "sagemaker.Session().delete_endpoint(deepgauge_predictor.endpoint)"
   ]
  },
  {
   "cell_type": "markdown",
   "metadata": {},
   "source": [
    "# Deploy the trained model using Neo\n",
    "\n",
    "Now the model is ready to be compiled by Neo to be optimized for our hardware of choice. We are using the  ``TensorFlowEstimator.compile_model`` method to do this. For this example, our target hardware is ``'ml_c5'``. You can changed these to other supported target hardware if you prefer.\n",
    "\n",
    "## Compiling the model\n",
    "The ``input_shape`` is the definition for the model's input tensor and ``output_path`` is where the compiled model will be stored in S3. **Important. If the following command result in a permission error, scroll up and locate the value of execution role returned by `get_execution_role()`. The role must have access to the S3 bucket specified in ``output_path``.**"
   ]
  },
  {
   "cell_type": "code",
   "execution_count": 8,
   "metadata": {},
   "outputs": [
    {
     "name": "stderr",
     "output_type": "stream",
     "text": [
      "The Python 2 tensorflow images will be soon deprecated and may not be supported for newer upcoming versions of the tensorflow images.\n",
      "Please set the argument \"py_version='py3'\" to use the Python 3 tensorflow image.\n"
     ]
    },
    {
     "name": "stdout",
     "output_type": "stream",
     "text": [
      "?.....!"
     ]
    }
   ],
   "source": [
    "output_path = '/'.join(deepgauge_estimator.output_path.split('/')[:-1])\n",
    "optimized_estimator = deepgauge_estimator.compile_model(target_instance_family='ml_c5', \n",
    "                              input_shape={'data':[1, 784]},  # Batch size 1, 3 channels, 224x224 Images.\n",
    "                              output_path=output_path,\n",
    "                              framework='tensorflow', framework_version='1.11.0')"
   ]
  },
  {
   "cell_type": "code",
   "execution_count": 9,
   "metadata": {},
   "outputs": [
    {
     "data": {
      "text/plain": [
       "<sagemaker.tensorflow.model.TensorFlowModel at 0x7f28abb51080>"
      ]
     },
     "execution_count": 9,
     "metadata": {},
     "output_type": "execute_result"
    }
   ],
   "source": [
    "optimized_estimator"
   ]
  },
  {
   "cell_type": "markdown",
   "metadata": {},
   "source": [
    "## Deploying the compiled model"
   ]
  },
  {
   "cell_type": "code",
   "execution_count": 16,
   "metadata": {},
   "outputs": [
    {
     "name": "stdout",
     "output_type": "stream",
     "text": [
      "--------------------------------------------------------------------------!"
     ]
    }
   ],
   "source": [
    "optimized_predictor = optimized_estimator.deploy(initial_instance_count = 1,\n",
    "                                                 instance_type = 'ml.c5.4xlarge')"
   ]
  },
  {
   "cell_type": "code",
   "execution_count": 20,
   "metadata": {},
   "outputs": [],
   "source": [
    "def numpy_bytes_serializer(data):\n",
    "    f = io.BytesIO()\n",
    "    np.save(f, data)\n",
    "    f.seek(0)\n",
    "    return f.read()\n",
    "\n",
    "optimized_predictor.content_type = 'application/vnd+python.numpy+binary'\n",
    "optimized_predictor.serializer = numpy_bytes_serializer"
   ]
  },
  {
   "cell_type": "markdown",
   "metadata": {},
   "source": [
    "## Invoking the endpoint"
   ]
  },
  {
   "cell_type": "code",
   "execution_count": 21,
   "metadata": {},
   "outputs": [
    {
     "data": {
      "image/png": "[encoded data removed]",
      "text/plain": [
       "<PIL.Image.Image image mode=L size=28x28 at 0x7F28AB08E1D0>"
      ]
     },
     "metadata": {},
     "output_type": "display_data"
    },
    {
     "name": "stdout",
     "output_type": "stream",
     "text": [
      "========================================\n",
      "label is 27\n",
      "prediction label is 27\n"
     ]
    },
    {
     "data": {
      "image/png": "[encoded data removed]",
      "text/plain": [
       "<PIL.Image.Image image mode=L size=28x28 at 0x7F28AB13BEF0>"
      ]
     },
     "metadata": {},
     "output_type": "display_data"
    },
    {
     "name": "stdout",
     "output_type": "stream",
     "text": [
      "========================================\n",
      "label is 28\n",
      "prediction label is 28\n"
     ]
    },
    {
     "data": {
      "image/png": "[encoded data removed]",
      "text/plain": [
       "<PIL.Image.Image image mode=L size=28x28 at 0x7F28AB1A1940>"
      ]
     },
     "metadata": {},
     "output_type": "display_data"
    },
    {
     "name": "stdout",
     "output_type": "stream",
     "text": [
      "========================================\n",
      "label is 8\n",
      "prediction label is 8\n"
     ]
    },
    {
     "data": {
      "image/png": "[encoded data removed]",
      "text/plain": [
       "<PIL.Image.Image image mode=L size=28x28 at 0x7F28AB13BEF0>"
      ]
     },
     "metadata": {},
     "output_type": "display_data"
    },
    {
     "name": "stdout",
     "output_type": "stream",
     "text": [
      "========================================\n",
      "label is 5\n",
      "prediction label is 5\n"
     ]
    },
    {
     "data": {
      "image/png": "[encoded data removed]",
      "text/plain": [
       "<PIL.Image.Image image mode=L size=28x28 at 0x7F28AC09D668>"
      ]
     },
     "metadata": {},
     "output_type": "display_data"
    },
    {
     "name": "stdout",
     "output_type": "stream",
     "text": [
      "========================================\n",
      "label is 12\n",
      "prediction label is 12\n"
     ]
    },
    {
     "data": {
      "image/png": "[encoded data removed]",
      "text/plain": [
       "<PIL.Image.Image image mode=L size=28x28 at 0x7F28AB13BEF0>"
      ]
     },
     "metadata": {},
     "output_type": "display_data"
    },
    {
     "name": "stdout",
     "output_type": "stream",
     "text": [
      "========================================\n",
      "label is 22\n",
      "prediction label is 22\n"
     ]
    },
    {
     "data": {
      "image/png": "[encoded data removed]",
      "text/plain": [
       "<PIL.Image.Image image mode=L size=28x28 at 0x7F28AC09D668>"
      ]
     },
     "metadata": {},
     "output_type": "display_data"
    },
    {
     "name": "stdout",
     "output_type": "stream",
     "text": [
      "========================================\n",
      "label is 1\n",
      "prediction label is 1\n"
     ]
    },
    {
     "data": {
      "image/png": "[encoded data removed]",
      "text/plain": [
       "<PIL.Image.Image image mode=L size=28x28 at 0x7F28AB13BEF0>"
      ]
     },
     "metadata": {},
     "output_type": "display_data"
    },
    {
     "name": "stdout",
     "output_type": "stream",
     "text": [
      "========================================\n",
      "label is 30\n",
      "prediction label is 30\n"
     ]
    },
    {
     "data": {
      "image/png": "[encoded data removed]",
      "text/plain": [
       "<PIL.Image.Image image mode=L size=28x28 at 0x7F28AC09D668>"
      ]
     },
     "metadata": {},
     "output_type": "display_data"
    },
    {
     "name": "stdout",
     "output_type": "stream",
     "text": [
      "========================================\n",
      "label is 21\n",
      "prediction label is 21\n"
     ]
    },
    {
     "data": {
      "image/png": "[encoded data removed]",
      "text/plain": [
       "<PIL.Image.Image image mode=L size=28x28 at 0x7F28AB13BEF0>"
      ]
     },
     "metadata": {},
     "output_type": "display_data"
    },
    {
     "name": "stdout",
     "output_type": "stream",
     "text": [
      "========================================\n",
      "label is 9\n",
      "prediction label is 9\n"
     ]
    },
    {
     "data": {
      "image/png": "[encoded data removed]",
      "text/plain": [
       "<PIL.Image.Image image mode=L size=28x28 at 0x7F28AC09D668>"
      ]
     },
     "metadata": {},
     "output_type": "display_data"
    },
    {
     "name": "stdout",
     "output_type": "stream",
     "text": [
      "========================================\n",
      "label is 25\n",
      "prediction label is 25\n"
     ]
    },
    {
     "data": {
      "image/png": "[encoded data removed]",
      "text/plain": [
       "<PIL.Image.Image image mode=L size=28x28 at 0x7F28AB13BEF0>"
      ]
     },
     "metadata": {},
     "output_type": "display_data"
    },
    {
     "name": "stdout",
     "output_type": "stream",
     "text": [
      "========================================\n",
      "label is 15\n",
      "prediction label is 15\n"
     ]
    },
    {
     "data": {
      "image/png": "[encoded data removed]",
      "text/plain": [
       "<PIL.Image.Image image mode=L size=28x28 at 0x7F28AC09D668>"
      ]
     },
     "metadata": {},
     "output_type": "display_data"
    },
    {
     "name": "stdout",
     "output_type": "stream",
     "text": [
      "========================================\n",
      "label is 5\n",
      "prediction label is 5\n"
     ]
    },
    {
     "data": {
      "image/png": "[encoded data removed]",
      "text/plain": [
       "<PIL.Image.Image image mode=L size=28x28 at 0x7F28AB13BEF0>"
      ]
     },
     "metadata": {},
     "output_type": "display_data"
    },
    {
     "name": "stdout",
     "output_type": "stream",
     "text": [
      "========================================\n",
      "label is 19\n",
      "prediction label is 19\n"
     ]
    },
    {
     "data": {
      "image/png": "[encoded data removed]",
      "text/plain": [
       "<PIL.Image.Image image mode=L size=28x28 at 0x7F28AC09D668>"
      ]
     },
     "metadata": {},
     "output_type": "display_data"
    },
    {
     "name": "stdout",
     "output_type": "stream",
     "text": [
      "========================================\n",
      "label is 13\n",
      "prediction label is 13\n"
     ]
    },
    {
     "data": {
      "image/png": "[encoded data removed]",
      "text/plain": [
       "<PIL.Image.Image image mode=L size=28x28 at 0x7F28AB13BEF0>"
      ]
     },
     "metadata": {},
     "output_type": "display_data"
    },
    {
     "name": "stdout",
     "output_type": "stream",
     "text": [
      "========================================\n",
      "label is 7\n",
      "prediction label is 8\n"
     ]
    },
    {
     "data": {
      "image/png": "[encoded data removed]",
      "text/plain": [
       "<PIL.Image.Image image mode=L size=28x28 at 0x7F28AC09D668>"
      ]
     },
     "metadata": {},
     "output_type": "display_data"
    },
    {
     "name": "stdout",
     "output_type": "stream",
     "text": [
      "========================================\n",
      "label is 30\n",
      "prediction label is 30\n"
     ]
    },
    {
     "data": {
      "image/png": "[encoded data removed]",
      "text/plain": [
       "<PIL.Image.Image image mode=L size=28x28 at 0x7F28AB13BEF0>"
      ]
     },
     "metadata": {},
     "output_type": "display_data"
    },
    {
     "name": "stdout",
     "output_type": "stream",
     "text": [
      "========================================\n",
      "label is 30\n",
      "prediction label is 30\n"
     ]
    },
    {
     "data": {
      "image/png": "[encoded data removed]",
      "text/plain": [
       "<PIL.Image.Image image mode=L size=28x28 at 0x7F28AC09D668>"
      ]
     },
     "metadata": {},
     "output_type": "display_data"
    },
    {
     "name": "stdout",
     "output_type": "stream",
     "text": [
      "========================================\n",
      "label is 12\n",
      "prediction label is 11\n"
     ]
    },
    {
     "data": {
      "image/png": "[encoded data removed]",
      "text/plain": [
       "<PIL.Image.Image image mode=L size=28x28 at 0x7F28AB13BEF0>"
      ]
     },
     "metadata": {},
     "output_type": "display_data"
    },
    {
     "name": "stdout",
     "output_type": "stream",
     "text": [
      "========================================\n",
      "label is 8\n",
      "prediction label is 8\n"
     ]
    },
    {
     "data": {
      "image/png": "[encoded data removed]",
      "text/plain": [
       "<PIL.Image.Image image mode=L size=28x28 at 0x7F28AC09D668>"
      ]
     },
     "metadata": {},
     "output_type": "display_data"
    },
    {
     "name": "stdout",
     "output_type": "stream",
     "text": [
      "========================================\n",
      "label is 11\n",
      "prediction label is 11\n"
     ]
    },
    {
     "data": {
      "image/png": "[encoded data removed]",
      "text/plain": [
       "<PIL.Image.Image image mode=L size=28x28 at 0x7F28AB13BEF0>"
      ]
     },
     "metadata": {},
     "output_type": "display_data"
    },
    {
     "name": "stdout",
     "output_type": "stream",
     "text": [
      "========================================\n",
      "label is 22\n",
      "prediction label is 22\n"
     ]
    },
    {
     "data": {
      "image/png": "[encoded data removed]",
      "text/plain": [
       "<PIL.Image.Image image mode=L size=28x28 at 0x7F28AC09D668>"
      ]
     },
     "metadata": {},
     "output_type": "display_data"
    },
    {
     "name": "stdout",
     "output_type": "stream",
     "text": [
      "========================================\n",
      "label is 4\n",
      "prediction label is 5\n"
     ]
    },
    {
     "data": {
      "image/png": "[encoded data removed]",
      "text/plain": [
       "<PIL.Image.Image image mode=L size=28x28 at 0x7F28AB13BEF0>"
      ]
     },
     "metadata": {},
     "output_type": "display_data"
    },
    {
     "name": "stdout",
     "output_type": "stream",
     "text": [
      "========================================\n",
      "label is 10\n",
      "prediction label is 10\n"
     ]
    },
    {
     "data": {
      "image/png": "[encoded data removed]",
      "text/plain": [
       "<PIL.Image.Image image mode=L size=28x28 at 0x7F28AC09D668>"
      ]
     },
     "metadata": {},
     "output_type": "display_data"
    },
    {
     "name": "stdout",
     "output_type": "stream",
     "text": [
      "========================================\n",
      "label is 23\n",
      "prediction label is 23\n"
     ]
    },
    {
     "data": {
      "image/png": "[encoded data removed]",
      "text/plain": [
       "<PIL.Image.Image image mode=L size=28x28 at 0x7F28AB13BEF0>"
      ]
     },
     "metadata": {},
     "output_type": "display_data"
    },
    {
     "name": "stdout",
     "output_type": "stream",
     "text": [
      "========================================\n",
      "label is 4\n",
      "prediction label is 4\n"
     ]
    },
    {
     "data": {
      "image/png": "[encoded data removed]",
      "text/plain": [
       "<PIL.Image.Image image mode=L size=28x28 at 0x7F28AC09D668>"
      ]
     },
     "metadata": {},
     "output_type": "display_data"
    },
    {
     "name": "stdout",
     "output_type": "stream",
     "text": [
      "========================================\n",
      "label is 25\n",
      "prediction label is 25\n"
     ]
    },
    {
     "data": {
      "image/png": "[encoded data removed]",
      "text/plain": [
       "<PIL.Image.Image image mode=L size=28x28 at 0x7F28AB13BEF0>"
      ]
     },
     "metadata": {},
     "output_type": "display_data"
    },
    {
     "name": "stdout",
     "output_type": "stream",
     "text": [
      "========================================\n",
      "label is 8\n",
      "prediction label is 8\n"
     ]
    },
    {
     "data": {
      "image/png": "[encoded data removed]",
      "text/plain": [
       "<PIL.Image.Image image mode=L size=28x28 at 0x7F28AC09D668>"
      ]
     },
     "metadata": {},
     "output_type": "display_data"
    },
    {
     "name": "stdout",
     "output_type": "stream",
     "text": [
      "========================================\n",
      "label is 21\n",
      "prediction label is 21\n"
     ]
    },
    {
     "data": {
      "image/png": "[encoded data removed]",
      "text/plain": [
       "<PIL.Image.Image image mode=L size=28x28 at 0x7F28AB13BEF0>"
      ]
     },
     "metadata": {},
     "output_type": "display_data"
    },
    {
     "name": "stdout",
     "output_type": "stream",
     "text": [
      "========================================\n",
      "label is 23\n",
      "prediction label is 23\n"
     ]
    },
    {
     "data": {
      "image/png": "[encoded data removed]",
      "text/plain": [
       "<PIL.Image.Image image mode=L size=28x28 at 0x7F28AC09D668>"
      ]
     },
     "metadata": {},
     "output_type": "display_data"
    },
    {
     "name": "stdout",
     "output_type": "stream",
     "text": [
      "========================================\n",
      "label is 27\n",
      "prediction label is 27\n"
     ]
    },
    {
     "data": {
      "image/png": "[encoded data removed]",
      "text/plain": [
       "<PIL.Image.Image image mode=L size=28x28 at 0x7F28AB13BEF0>"
      ]
     },
     "metadata": {},
     "output_type": "display_data"
    },
    {
     "name": "stdout",
     "output_type": "stream",
     "text": [
      "========================================\n",
      "label is 29\n",
      "prediction label is 29\n"
     ]
    }
   ],
   "source": [
    "from IPython import display\n",
    "import PIL.Image\n",
    "import io\n",
    "\n",
    "for i in range(32):\n",
    "    data_plt = test_dataset['images'][i]/255\n",
    "    data = ((test_dataset['images'][i])/255).reshape([28*28, ]).astype('float32') \n",
    "    \n",
    "    # Display image\n",
    "    im = PIL.Image.fromarray(data_plt.reshape((28,28))*255).convert('L')\n",
    "    display.display(im)\n",
    "    # Invoke endpoint with image\n",
    "    predict_response = optimized_predictor.predict(data)\n",
    "    \n",
    "    print(\"========================================\")\n",
    "    label = test_dataset['labels'][i]\n",
    "    print(\"label is {}\".format(label))\n",
    "    prediction = predict_response\n",
    "    print(\"prediction label is {}\".format(np.argmax(prediction)))"
   ]
  },
  {
   "cell_type": "markdown",
   "metadata": {},
   "source": [
    "## Deleting endpoint"
   ]
  },
  {
   "cell_type": "code",
   "execution_count": 13,
   "metadata": {},
   "outputs": [],
   "source": [
    "sagemaker.Session().delete_endpoint(optimized_predictor.endpoint)"
   ]
  },
  {
   "cell_type": "code",
   "execution_count": null,
   "metadata": {},
   "outputs": [],
   "source": []
  }
 ],
 "metadata": {
  "kernelspec": {
   "display_name": "conda_amazonei_tensorflow_p36",
   "language": "python",
   "name": "conda_amazonei_tensorflow_p36"
  },
  "language_info": {
   "codemirror_mode": {
    "name": "ipython",
    "version": 3
   },
   "file_extension": ".py",
   "mimetype": "text/x-python",
   "name": "python",
   "nbconvert_exporter": "python",
   "pygments_lexer": "ipython3",
   "version": "3.6.5"
  },
  "notice": "Copyright 2017 Amazon.com, Inc. or its affiliates. All Rights Reserved.  Licensed under the Apache License, Version 2.0 (the \"License\"). You may not use this file except in compliance with the License. A copy of the License is located at http://aws.amazon.com/apache2.0/ or in the \"license\" file accompanying this file. This file is distributed on an \"AS IS\" BASIS, WITHOUT WARRANTIES OR CONDITIONS OF ANY KIND, either express or implied. See the License for the specific language governing permissions and limitations under the License."
 },
 "nbformat": 4,
 "nbformat_minor": 4
}
